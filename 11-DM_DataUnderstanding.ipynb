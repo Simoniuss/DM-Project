{
 "cells": [
  {
   "cell_type": "markdown",
   "metadata": {},
   "source": [
    "<a id='top'></a>\n",
    "<img align=\"right\" width=\"300\" src=\"data:image/jpeg;base64,/9j/4AAQSkZJRgABAQAAAQABAAD/2wCEAAkGBxMTEhUTExMWFRUXGRoaGBcYGB0dHRsXGhoXGhgaGBgbHSggGx8lHh8YIjEhJSkrLi4vFx8zODMtNygtLisBCgoKDg0OGxAQGi4mICYtLS0tLS43LS8uLS0tLy8tLy0tLS0tLS8tLy0tLS0vLS0tLS0tLS8tLS0tLS0tLS0tLf/AABEIALcBEwMBIgACEQEDEQH/xAAcAAACAgMBAQAAAAAAAAAAAAAFBgQHAAIDAQj/xABAEAABAwIEAwYEBAQGAAcBAAABAgMRAAQFEiExBkFREyJhcYGRBzKhsRRCwdEjUmLwFTNyguHxFkODkqLC0iT/xAAaAQADAQEBAQAAAAAAAAAAAAACAwQBBQAG/8QAMhEAAgIBAgQEBgEDBQEAAAAAAQIAEQMSIQQxQVETImGBBTJxobHwkRTR4SNCUsHxYv/aAAwDAQACEQMRAD8ATBxrcHSBNY/xg8CJggbxXl5wPfIXlLQzATKVpIPlrM+lDbjhm9QoJVbuZjsNDPlBNDYm0Y32PxEtkohdmVq6nIfvWvDfGlul5x25ZOUyUpSJSnoI9qR3cIfSopLDoWBJT2apjrEbVxUFhMFCwBzKSNfUVhUGbZlsYfxPha8xuYCnFEgFKlQnlqAY6VB4uxjDeyP4Nf8AFO2UwBqJJB8Jqrc07V6F9azwxBTyrUJsYw8pxKVPKCCoAkbhM6mPKrOTiGBNJGZXbKjotcn61TrJ701KfGxrWS4QapdPD/xIsmVIZabUhpStzCUpnwO32rX4iY7atKTdWnZPPKELgyFD8qjl5gSCfIcqpRt7u+tFsHxAA9moCFaTXtAqpmre4Qv/AIgXzhBDvZgbBKR91AzQi5xy5dntH3FA8ir9vtWuN4d2apTqk1ASTRBQOk9qMfPhZxomxecS9JZdCZ3JStMwQADMgkHyFdvi3xCxeuMrZC4QkpzKSUyCZ2Ou/wDetJDWHPqhTbS1DqBTUjh64uEJbLZSsjTMRAHUmdI96wkd54KYkqVrXiqej8LroAFbjSdtiVaHnMCjrHwztEAF65V7pT7aUJyoOsIY2lUKNc1mBrVsPYJgjIOZ5CiNwXCT6CakscVYJbgFm3C1CNEMwfdYAPvWeLfIGbormRB3BSAq4tEqMBPMnkA2PuCKcMPw1biLgJTqXkk+CYUr9R7UNTw8zfXamme42bfP/uLqyQf932qyOGLNSEvKWgoK3lkJJBOSYRsSNq8QWaKTYEesWBgX8BaXEk5ylsDbVagkGT4kVVfFygq5VlA7NgZUDbY5U/X7V9B46hPYOZtBlJnor8p9DB9Kqex4eC3ErcAW08f8uNQpJBKgokmPmHvQMNJjuYkHAmvwFiu6UP4qwAgHfMqcg9BKj50h3GIOlRkhSiZJKRqfarA47vHFvdk2P4bQ5AEFw/MfTal/C8Nun3ktogawVZRCQPmJMcqzXFmc+F7EuBT70BhqJBAHaL0hA09TU62w9d6+bh1M24WAqNtSAEjwEijt9hqrlxq2azIt0q7PPyUs/Mo9STTTZNJbtwlKUlKQ2h0RHeDpSVeJ2NBifW9ReqzANrgfZv3IZSgpZggeAgyQNzyijnZt3AcKYBQlKlQNOihr6a1zTbKbevV25BSITlGpyk6wdySZFEgErN12SgkADNA0KYAUmPPc07Kuw/ekdj6/vWbtgBtzImcyMgyRoQZkgcvGieE2ukLUVjLOsfN10qDZOoaClACMhR3Y+Y7SBUy2bKUS6e7HSDm5AeFc7Bb6GHm52TsfaObax+OUnochGdWiOh69aivYuVf5eidis/pWjic6EheiJzR9poBxBxTbsDLmEjp+1UjZRRP0gVv5owIeS0MxV77mljiPjZDYMrA8AdTSi5ir96opbJSgbnmfKujPCqQCVpUo9TW/KLY1Nqz5ROC8fvVnOhvunaelZVgYFgLa2G1EnUfYkVlECpFgCZRlEJ40vQoKNwSodQnXz01qYx8RLwOh1SmlkCIKNOWuit67/EFOHv3LYw1CRn+bICElR6JOifToai418NMQt2g8poLREns1ZigH+ZMA+01WcY7ScPCTPxNf7RTimmlEgCJIjyOtTx8UUkJS5aaTJyrBn3SKq5aCCQZBG4O4PiK3KtBQnGvaHrMsl/jOxefLrtsqAnKkZEE+M611/wAVwNcgsgHbVoj1kVWFahw1mgTdRlm2Fngq3VFTiUIA0BWpIJ6ial3uB4SpJKbjYGAHQeWkA61VSXda2UsV7R6z2r0hG6w/LOQ5kgmn3AuE8OSwl66uASRMdoEgeEDXTzquWbqEkTpNe5Qvbf61rKTyNTykDpLw4XwfCbxZaaKFZBOkFRnxWDPP2qPxPiLeDFLCrVTja5LTiQkJI/lPRY+uh8qu4d7W0fTcFRb7MjYiSZHdPKI19KfeIuO7XEUi3uwpDcBSVtR3HIMlYWDMa6J3mveEpFGYcjA2IExL4muLBDduhvxKsx9soFO3wiWi/becuFFTza8oAJTlQoAgjKRuQRrzSfCqivsJIUexWl1vYLmJP8sHWTpGnMV24S4suMPf7RoAFQyrQsGFCdJG+hn3NauNR0mMzEc4X+IL15bXb1s5cuqQDKJVEtq1TOWOWnpSeu5J+dRV5kn70d47xp28dD7pTmgAJSNAOlK1EVA5TFJreSC8OQqVhhzOtpOxWgHyzCfpUBCZopgzZ7VvrmrwE8x2l/8Aw2QFP3KxshLbYPh3lH+/GrApP+GlrkYeV/M8fZKEJ++ai72NkONI7B0BxWULIGUaFWsGdgaxjuTBxDyiCviHf5Wksp+Z1QT6Exr9aGYleotLTtZhSkhDUiYTqEGP6jKz6V7ePpur8tdihQQSS6SrutgDN3RpPJJnTMdDBpV43xdNxcZErQG29AI/NseUaCB71OdyY/0ivbIBP+YVLUdspkknz11qysMwAWzARmSLh8gKJ0gHZIoZwhh6G0i7fywNGkwJJ/m/ajrXDdzcXDdw8sNtBQUEfm01TPIcq8qXZgMR0hO4w9DSW2UpISl1slQI0Ufvr964XS1pZORJJSoJM/nHbHUadNzRHGVaDKBl7RvMCNTrqQfLn4UIxJThYysER2hg/wBHaqmegB96nwV4tRI5mREIIdvFMGTmQMnLLmGg8SZqW0zm/FBogd4SAN0kjugRvPOhjbud+6/DauKWjNOgCQrUR9daYx2bPaLzBCVGVrOg8EpFW5RdfvSPxHY/vWdbGxDZmAVFOXIANpmTUfEXt0gF13YJTsnxJ2FB1445crW1aqS0AnMpxeqimfyjlTNZrCckQAU7DmeZNTUEW2Owjdydog8ZrxHKOzbWEpSAoaHXmQQdRXDAODw6yl4pzKIklZnXnVl3L2bMI28JqNgDI7MpGgClfeYpCZlZwidb3mijuYEwDAC08CpIy5TEdabPwgMyka164AIrYveteUrTDIbnmbttIbLYQMo2E/Uk1laOLVJ7hrK5fi5V2UGvoYWtDzMoLBuC1XKl3Fm6Gkh1YYSoEnKFECVzp5EHTenG04vxaxJbvWPxLTfzutgEhPiRHnqBVV4fcXDBCmHltq37qiAT4p2PqKYHeNr1Vu4yvs1FwQXMpCoOh2OWT1ivq9SyA43uT/ijxTY4iWfw7cOAkuOqQEqgj5Cd1UnXODkJBScwqwMGusIeYS0+2hCwmJcRljrDo0HuKGcQcPM/iG7fD3cwKZV386QZ07wnly8qwjsZqk8iDK/WmJB0NR8tfQmB2Vsxbfhr23AGXvrKQtuNZObceZAoZZ8EYddXrgtkILSUp2UsozGZygK6R4V5lqeV7lHRW9Xde8OW+HLCn7VBCpCFNoSqSOWsEGOvjQXjfBULUz2UDOkkgRoDEbetKLCNAvlK3sMLeens2yqN9gPckURXgrls0HnsqCsfw05hniYzlA5aQD50x4Xbv26VpbKe9vIk+mtCeK1PltntnCsIBQkmNEjUDQCTvrv7UIyKTQm1UXl3KspRGnPrPU1Fk9adOEOEEvoU68SEkwkAxtuTRnEOELVB7qQRHTn7VjZVWNTAzC5WrLpBkH+96KXDC3uyUkKWtUoIGsqTqTPKQdj0qdiHDMk9l8wBUB1gTEUdwTBHLfDP8RC0pWl3M2g6hbYTkVOsyVEx5eNHjYP8sVkXw9mlm/DfC7d7Dvwb9ulLoSUvJMZiDMLBE79eRqksf4QurZ9xksOqyKICkoKgpH5VSkcxHrNM3D/xMdTdtuLCG0KKUOFIMZJ1JBJkfberK+I+OtWraLtGV1SiElOaMwOxTodt/KmkMRFDSrVPnk260HvoUj/Ukp+4o3wsP/6EaTqPoQT9Aa24n4sVdkS0EAGdDPh0FRcBvD2yABqZHuIrygzXqjPp3g+0Ddo31WO0PmvvfYiuPGjSi02pLpayOpUVAAnLlWkgA6bH6UXsm4abSO7CUjygDT9KVfiHdZuytknvLJJjknmT6T70puU1dqiYb82dvcvJcLhuXMrSlABeQCJjaAcx9aWeHLRbxW44qGGtXCYlR3yjzrvjbqru7TbtDuo/hoHIAfMr++lWThPDCOxFuEDs0/MeZVvrShV1CN1cAYBhD14+3cuqLbCCOyaH9J0kdKtG8JGWE5tRPgOZrhZ2QRAEDl/1Ul9eWNRPj+lMA2MWgI6xf4gX8veyfxGo10InaOZ8Kgrw9x9vKJbSVlc6yCHFFQ31nQ0bebaCS68QTyCtQCJjKPWq84z48dJ7C0SokmO6JWSfAfLUuDEQ+onftPBf9xh7FsbtbEKMp7RRKikGJUeaz+lJFre/4s84F3C0hsSlCNBlmCQeQGmu+tdsJw8KYIft0C4BUFqX3jPWSYHkKgcHMlu9WmAElpckADYpOkVYUOkt2h6wHCHrv7XCGEYGLLEWIznOSkEqJBBSd5q0LYANoKj3tRNCl26XHWjAJEEeYIomm2ASEuGTmJCQeU865mLK+fDZG5B+kqakNCSXVnWDuKi2iFiQkaE6mjACQBoKiC4SSYO3SkDhdLjW/sOcWuo3U3QzlTKlT4VJt45CuTa5AMVIaB1muhgRFHkEFwes4LuTPKsqK+nvGsrkv8TyqxFCOGNanyrH9VetozGAdaP8UcFGzfQjte0zgnbKRrtEmaLtfDK9/huIbbIiTCwFesgD619H4cn/AKgxOXZKG9TLBbjQS40soUD8w/50qZiFkoOltQhSNFDeD6V6i17mTn0rdAHWZ4zEcoYtuMrm4BZdUhQI1VlhWXmNDGvlUax4pSwuWXVNqGndPTqNj61C4a4edbezLGmU0NtuGnHXylPNR5eNLdNW5PKDY7Rt4l43VcBvtlhWXYAQJ/m867sYh2pQs8hHpQQfDe4zTmHtR6x4ceZHe72nKlMU6GFibSwM1fBC1HlQLiBha2/kJCYUVAEgctSNvWmdbZKQI151llaqWojQQNSROVJ+YgSNdI/386E0PNUqOME1IOH3ybS0bWtIUViQkqCRvMkweUbDlWN8TouCQprsykA6HMCImZgaelMyXLVdvDyQMogBOhAA0CTyEUHs12bbawcjS3AUoB1UUjmSdgTp6UkkG49FIreALLFWlXjQQlWXOkFUp6iTlnMR10oBd3gD5acUotIUoJQScqTP8uw50esLFrMFBQ0IOkbA8j1GulZxFg6HrhZAGhV15rUfuSfWn8OwDUJLxKnTbRYxpCEKCkJ7p8NJ8KI8P2qHhCtxAE8gek7UZewtPZZVJBjwJmhDQQn5Unpok8qvCkmxIb2kLHUJZIG9NvDLDSuxCUd9S0R/7hzpWvG8xkoUfHLTb8MGS5fMpIOVCsxHgAdfeKVkBWGm4n0ESAJPKqd4rx3vO3APeX3Gh4bD96svirEOxt3FeH1OlVbg9qh5YuHdGm/lB5nmr7AVNkPSMELfD/AQw2X3f8xQnXkKeeG3SpLip0KtKTbBxd88UNgpZSJK/sB56042TabNghaglIJ1J5UvGDrswifLJ6FakqM66R4ULxriNpmJhSzolA1MnwHPwpZf4kevnQxZnIJIU8Rp5DxqRgvATjNym4VcdopM/MnmREjWmEmtpqYwOcHKsXbxSn7lTjDQVlyapUqBrlTyHjXFVw1b5W7RsNJK4zq+dSinVSidSY+9OV9aAAl50JGfMCdTFLF/jjLah2DOY5k95fMxAJnpvR8F5ltl3ieKY3QIg9LD60KCWjAmSruiYiSSfWu2A4KhnOp5OZw6BIOkK3JVy8q1wbHF5szhlKVnSdJVzjnrrR28QlTIeUTJUJMk6H+xRZ3ZSw5entBwYVYq5N9L9LMm21q2wlPZwiem+u9dWQSlBSNSoyTvFcHEhRRqBpvPlXa1WtSMqEkkK35R61ycGbxMdkV6CdDSuM7Sc+dUEqIGvrXCwdT2itSRvrUtq1WpIzACPGuCsMEyVR5VJjxcQGBVOt77dP3pElqY1+/STvxCYnlXcPioiWm0DYmdNakMrHSK6WMZRetgLmNvyEgvTmOhrKmLvQDWVzG4DAWJOX8RgbJ2lIqwdtWZRUSoAQdSZ5U4YRiN0gISbjMAmCFNp+4ANJzN0sOlGSYJ72saVNYxQhRGVMxPOvpPEUC5M13REmq4fCrtSzJzaqJG5Mz4V7ieBIacQUJmTrQ/D+LFdsEKSmPIn9ac7fiezC1AozQkbNk69IPMc6B2RTZMOmPSC7hrKNgZHhQvhixyvqdUAN496PXHHtk8OybQoKO5U3lA8zW2C8V2aAUrH5t8oI/f6URAKle8WQZst9RMyN6ntsf1TpNL+K4k086oMqypI5CPUDlUHD7pxoKUVlRUY1J05VN/S8qMNSOohrGG0JgD5jsP2pax9osN5yVI8SFD08a1d4nt0XAU48mUflExm5gHXWlbjfiVV48tRJCAiG0SIAkEnTdRjU08YwOUzURyM6u3YdQlCVQSlJSdYIgakbkftRIoSUJTdODMkQnsgkDfnmBO3idaU7Z0rZSUaOMkgR0zEp+kVJc4oQpOVxgpWNymp2Xc1LUcULkm3t1dsQmQ3Pdn5ttZjTrtyp6wtxCUS5ufD6VW1/i60socRLZ7QQd5TlXMjmPCj+EcRIuEZTlQ4CAQToZ2KDzB6b8qfgpbJElz+Y6RHVy7YymdjQlbtsn8o/v0oem0cWCBEChGMhbIkpJHWn+P0ER4Bjpi2HrbZDq2MrZjWUyJ+XMkaidK9+Ez6Px9wdB/DEeZVr9qMt4RfXtkhLr7SEqSkkJaJUoCCkKV2gHSYSNqRcES5Y4kttRCjliRpI3BipzxS5PKOfPrHJhqWPxrdfiHmbZvWVEq6Rynrzo/bYGw2yUKSCmNZ8qVba6Pa9tlJiaI4vZ3DyM619m2d0jePE0rXR8whOlcjNLviqztGVNoWO01AAHpPlFDG2xiTPbuvEjkkaJ06jrXfDbC2YQoIQFLI1UdSfMnxojwthjSWS0lPe1UoE6anpQZSxFId5uDTqJaSeHcHSzkyAAbk9dOXSi969CxlbUuRGYECDPiaE4dcPZ0txCUqIMDcDqTRu8WUwEpSZ3kxE86oyXp80FKJ8sEYlZtBMuuAayTud6VcRubNGyFufLJjx7up2/4pqvwwEmXEjy5ewpSxJ60BMqKtvyKOk6HU78q34cBpO1feTcYTt/3O1lhBuJWlaW8xICVHMdNNANqPqaaQ32Lp7TXZMgeppZw98ArU0SCTsEwdv21phKUqt0qUSO8J1n++Ve4jZj+9BG8OAVG/wBf5MlWhQkFLbKQECe9qSR46mureIOFEqUBrBAH2rWxSkOL6lP0itbdackR8prnjP5VNgXW31lQRBtUNW4057TXF5sg6ak/SujD4MQRtWt69lEinBwVJJujFg001UkwJ3/Wt0MkSSahqxFJ8+ldU3o6yKlGbEVb6wi/SxObiNTWVzXdpnY+1ZXFYKTGDMveU+LItlQ7XYZtd+sUrWiVpWrM715/80xYlhy8z7qz3dUhXiYEDypVsrNoOkKXmFd34d8jNd3X81/mZxIFgSXa5Q62vPrmE6+NWKyG0OqV2ZBI38xVY3aWm3RlMwatrD0hWVxSgRlEeoqX41VKx7H/AKjeE00b6Sqw4UXC5OUZldeprLYKczBKpg7074lw6wolRSO8ZmPGpT2GMW1vDLcyQVEDluZI8K6n9TWNXG5NReLhxky6Dy3i1w0AJkyaNaqMhM+QmB1MmABTH+OsBblaUJzBB0gAmBzIpSsMRIbcKQAlR2Enua8+Y5x4nbmwec6r2ibA8oEXsSw1gjKFnMCdXCDqNP8ASNesHxoFiFktkSpJydeQnlPLympuONErJGyufUj/AIy+pNZhN26yNO+jYoVt/tO6dD5b7U8xMDYdcqQolOo5jkf286MG8bVCsknmCP1rwMsreQplOQEHOggiJjLH5TOu2ndqbc4eUmIFTZedzr8Bhx5V0k7iBsTuO0AEQkax4n9tfehNucqik9D7H/mD70z3LUIV5UDYQO32EJ1Midh0rcR6TPiHCriUEd4/YfjGZstd4P5EECfnKgYg/wAxjY7kjmaL8I4rb3DS0vBJUmB3hOmsiDzqtcQdV2oc2BSiB0QAAn1Ckq9ancRLKVN3TZKS5AcjSVwDm0/mG/iCedZlx61IBonrIFffeXpwnibS2A226Rl7sA6jLpH0qteMAGsTmScyATO8yrehHA11leLgOmsj0IrOJbwvXYWNgI+9EDvpggVvLP4a76VKnaNPSpd7xinsSlxtUbExoaW8CUrstPUUzslm4QG0FMp3H70DDzQSbNQZa8XWeaSnaBH9mmWxx62PfSEgkciJI8aUeIeH0oICW9TuY/WuCsCaS2lSkdoVToB8vjWFlHSMTCxbSpliN4q3mgZQTr81c3lof+dsKCdjmI8tqqS64RK0IcDpEq2k7TECp2JcBONSLe6dRtu4Y19ae60N4gWTsZZF82iQiN4mD/xS/eYUwsrzBUAanPyG3LSlprC7xpsZrp0OgQSVSPP2qI4rEwhRbuEOyDIypUT0ERNDw4O/hbQc4GwybxrsMNbV30lQkmSF79eVSkImWQpagIMBaRr4nLNK7+OXLDKV9w6QUqbg5uY7p6zQ3AeNnVPFC7dKVESNFCY33GlYyuzFn5f22mKqilX9veWA1ahB/wAsnrmeNdvw6ANGYPUuT7Urq4hUTKrdJjoqvRxbp/kq6SCDSlx47+UfaNKL6xswtxxfamUthJygp1MwCdTU5SHBu/7pFJv/AIoLdv8Aw0K7TOSQR8085rm1x1cgd+zJ6kGjVQLoTNK9ZYabYRJMmN61csjplVFKtlx+2owtpbfmP2qY3xgzJ3jrU6Xq800qtQ5+EX/OPasoEeNbUf8AmJ969p9rApZWfF2Ooj8MYCjkUojlICo86TrRbaXSR3htTne8IKuLlx3syR4nSEgAQOe1QhwktTqRbtyQe9OgHnrSMC4MIOPGY7I+rrAlngxuLkBKSGye8qrlwawQ0hCpBAER5VFwHB22Jbf1XuQkaCaa7HDrUpypRoPP96V43iPVjbkPWKtrNGKvEd8DCUoGXNqfCt7dxAQUSkhVE7vh1HbgFK1sqSdNTCqW8T4bbWhS0dqwtBO4MH35VK68QSbIH05TAcg3Bg7jJpDVootxqUp9Jk/aknBXlBBIMc9NpzLG3Lb6U18UWYZtvnK5KD7hwH7ClnB2CUKyETGqTz1J6+NdbhFK4QGNmexgwdjVzOU7SdfAgfSf0qLZ3A2+nWJEfWp2LMZkKGXKsDUawoDXnsRypes1GUkeXrB/WqBDOxh63bBZBnvJHdV5aEHy3qVZ4r2qSF/5ifcgbg+O/tQyyQvISnUFSgoH/UdvShruZLmYCDv+495oWUMKjcWZsTh16RovYLRI8PuKXm4Qhbh3WopHkNz9o/3URL38BZHnHTUSPehmJMk5EzoEwB4yc39+NKxLVidT4pnGRUK9Rc73a82SNygiPJSj/wDqpKU9syGjukmPEZm1fbP9K9tbI5AvfKkEDx+b7zU3A2Aq9Q0DoptZH+5JCZ9k+9NnI6xh4f4cCduYqJe4Zleynzqw+H7fw2pc4ktSq8SEfymfcV5gAYIJkPCMUDKwlR7oOvkaeL60YLaXbWAswZT+tV/i+E9koLUDBMGnPh+9tkBAQqRsfDxPrUvjgtUWG3Nwrg3EiVHs3wNNM0aevSuuJXxZdAbbC2lDUpG1QsewxotksHvb6e9RMFx7sE5VpnTYjfyNax17dY/E+lrqxJ1jjlupEKSpHf0hM86K44O0SIazgjcwPao1vh1u+hPZEJObMUnfxpmQ0MoBA0qrIBRr7wEYgg3FeysWFtTmVm1JCjrm2jWlu8w9xsktnllBBhQ1k7+BInXani5sUr1Gm8g0k3jzzUpB01InU76ZT7b0r4bsXGnqPeBxxLEG+8guXBbazLylSFhXe1za/tNGL3CW3Uh8JA6kE6TodK8wnE3l5W3EpjNBKkiI6+dH2VIbCkLOcK5AEa9PD3p+Ym66WYGEUdRN7Cvb9+0Wf8LBUTJyxp46UNZwWcxkaT3f1p6OG251StSVEbTMdN65DhhSQSh1JUZIzDry0rj+Bm9CNNbHrcu8euYiccOcySR3QNI3qdYhxSSCk6J3jSaYF4W42BmQpWkHLBB8RUrDXRkCCnLA2NBmdlL7kbCvrDXIjdJU19fuyoDTKY2rlhl+Vg5l6yQB5CjHFFgpDqwD3SZFLVvahLgUYSBM676ViZw+O76feTreojsfaoj3zhLi9fzH717XK6MrUf6j96yuwo2EA859O4DdBSMxIABI/wBQqd+NYaXmyxm0JH0qDhFowhtSgNFKMIP5fACh/E5QEzkIjUKSdj4jnXKUgUdooGo3OXKNTkBnnprUa2u20d2QJJ0oNYtrU0guOhOaIj6UMu2ylZBX30mU+U0RyMxvTN1R9Tfo5T7UNu8RJzpyCNtfGhxxPuSk6jnUVeLF4QAMxEGOtOGZm8txi7xH4/CksJCo0cIAH8sTvSZgdyQTlPXQ7/lP6fWmni61catz268x7Xu+IKSY9IpPwOyDiie2A1A2IGoUd/SrsYpAJg5wpiDpUhRAlUHQc/Lr5UnW7sOKjrmjyPSnpzBHk6pUkjz5Uh4k3kdMePpO4ohCaOOBtoQCnNmSYJO3eIBUPRUj0oJxCyEL335cxOo+s1rZ3acolWu8DfXWsxe4WtACkExsTvH9/esE0naaWFwFJKTuYB9xr6gVwv7iVeYEewBj2A9K1wpiV9NtvMCD7/St8TblzujfYDYCTzr1C54sSoHaMGHXktgAaD9QD18YoG7fFN2pU/KQmfBACY9CI9KMYIwAjUjTUieSdNfOKVWFBbmadVEk6jfU/esHOYTsJ9CcO3ylW6HEwcyASf6ohX1moNqkm8StXMEV24RZS3aIS2cySCc28qJlX10jwrd3RaVeNCZq84Wx+2bdZWlQ5f8AVVPwyw6LjIrN2ZJE+VW0Wgt1LZMJUNaJ/wCCWjAkgaa6malCEMSYpkswfws+2gqaUBBOhP2rjxRgYczZFpSY0HjULiAJ7QKb59OoqcxbC6ZSkLyujfxNOKjRsN5ViAR1JO0SsLxRVu5kelwJIzFPzJ6R1FWVgeMhaCtcZNIWD15EdaVThba3FIdCUuAZZmPImhyLJ+1WoN99vJmKJ0VB5eNVZABzktEsdPeWC9hy++pDhVnJUNoAgQPEUs3F2ACHAM4JgEaKKdNNdPKpVnxW32CVsnvzCmlbhXNJHKpmJsJeTmSB2wE9mqACDv50vh9ONjR5wc4LCiNxFpWGPraLgQg5oICTlIIIg5T5Uy2aQthYVuAZgmgOGv5VZssBJ1QCd/DoPCmRu4ABWEgoOhEH3PKtzXe/L/Am4Rp3G529tzIls3qlSVQmB5mK7JWsOmJI3mpBtGnEpUhQbO4A1GteOWTyCF/OI1yjl5VxzgyKwK8tJ3He9pd445MJvZ4ooqgnaZqX+MbcOXJND7cgrIy5Z1E769a9t7fKsmfSjPEZFu9xpB3+88ceNhttOGP2TLiFAoSD1pZw7gtu5CiCAAY060efaGZzMuJOgjyobw5cus3C2x8i5UD47Gh4fiQxFgC+gk4S7ofv0i/cfCwBRgAid6yrFVdqGmasro+IneH4GTtI72FthSVKWcwOsGAY5Ec6JuXjcRlSfCKBPpuJByK9qjXlqvs1FZLCRqXDGg61CEyKaVYgLPbxDaXIQQgEapGwPhS9idq8t1Bb15EnYCpjV+i0fabKg+l8KCHjHzjWDG8ifaifab8vKmjh+pMIoJth+FLyqGcZuY6iuCLcpWkDu5SZrqytSVhYMHauvanNm50aY9JPaFEj4lpCg2FKIGsCNJkZiT5ACkrBcQShyQkSnYr0SmPzRz+v1qxuP7Mu2i4HelMeEqTNU5dWfZKyD5+Z/QedWKfLBPO42uXjrgcdceUUDuiBlBWRoABqQNzr0HOlDFsMdbhbv5yYmM0dSBty96MW2LJAQhQ7jcxrqpZ3CZMbwM24Ajxrfi1/tFZRBA1kDYJTrpy15eNbVTSbg7C1EJAQmSSkctSQIFGL7ArxTYhAIM6JUARCVSFAwQfCuuDvtpSgObtKUpAA3cJJCvME7n+UdKMMYro8SYmCABzy6nTUzQmEBtERhBbXlUMpTIII2O/L0rtdPpC5zSIEkfXz51Gxy5zPFQO4SfWI18dKgByii7ltsYUzbsQy0l8rHeccSFyDySkggAz+870m3fGLqQtttJbBCmylQCQkHQjswIBG0eFE+HschltOY6JiPLTap9xiFmpYW7aZl6SvJCiRsddDsNTUammOredB1tBooRl4Avu2tEpbBUpA7wSJ5nWBqB513xPEktqCVSFSO7He5kDJ80wDpHKlHDrsuXAS3dPNMkgLTmAJBOiZQARJgTyBnpTi3hTTIUUJOY7qUpSlRMxmUSYnWKpBBEiI0tGEqOVl7IoaSUkajTYxOtIPE2JXC3FOZllsGAnkBG9WIvEEt2qFq20BPSl/FsFuHxLWVTatT/YoVdVbzTxQm6gDgu7/ABThbKpKDI15UbfSWLxKWlFRJzKAOoIoHdMu2T7a22CMpGbICZHOYFNFhhylPHEBATlylPPlvW5CNJZTCSywRh7Q89hzV0kuQA9lhXOQPCh1k4tsditskpQSHOYB2EVCw/EQ1drbBI7ucTzneKar1wLSh9H5oSoRrBNCmTXiDDqJ4Y9D0YltYcHZXlJVJhzYgjbQcxUrC8Y7+R/RSoCXORjQA/yn6UzstdmpckqRA9D5UnY7YqAcISDoSgp1kEzqPpQcPjOXIynlXvA4twgDQjftaFRJSVEpzAToTl1Tz8xU6yeSltxtfQkQCQQecjbWku0xRxkoSQXW0wvLMqSD/J1H9NGb7ElpUl9lY7MiCN55wtP0omTIjaW/mIXLQ1D0hm2E9mURl8fCpn+JqS7lJJEj2odahLqEqQlLSzrzyq/apjxW2pJcCQD01HvFc4Y8uJx2pt+lk2JcuZHHnH79YV7dl4wU69djp41rcYWQczRED8pP60Os2E9opSVT/fKtRdLS6EyqNda8+ZMjHHlXmt2O03wK82MyS5ha1HMoATyrUYQEqC52BHvvXZeNgFSFDaPY1OYyOphKq3h+FwkB8RJH1MULRiTzkcWSKytjhy+tZVt//Jh+M3/KSS+etAONk5rF8TqoAD/3Ci0zQzGW5bX2h7o1HSNN/GarblJ15xQXgALdukGOwWlY9JBH1o8kVycSUKKT5jy5V0SqRNTxhNz0Vq7cIRqpQHnULGMTRbtFxw5UjQcyo8glMiT6jzqv8RvkXS8y1PpHIApj2j9TQlgJRg4PLm3Ube0YOJ+LWMpaTKySJjwOv0+9I2PBDqytsys//H/upasFa5PLT5tT9Qsfao1/g40KFpUocyMmnnmrUybxz/D8yr8v4i9aYctToSRMH7a10vL45nUxvCCTMwkmY8z9hU90utk8gB3RmBlR0OxMdN+dCj+I1zMlXU5Cfqmn3ITjIJBBnfGiUqQQdFpSr6eNeB9WWJknl/wK2xG+JQ0FNiUojXyA1HOh4uV8lAeAAr0CeXLJAB2nSK4FJFbNqlQJM689anXrYhMf3pWzJ7YPKSnYGNB5+P1qVf3a+zGsaQY0Gs7c/DevMGYzqy+vlp/3XbiS2Iyx8u0eJmPeDQ0Lh6jpnDAbhCVgKBIURIHnz8KuxpwPNBxCu6oSP2PiNq+f7dZSoEbg1avDnF6g2hlSO01jMk6iTzER9a80Ebyx023a4epPPKajcBKcTbDtFlR1gD6Ci/DSc1upJ8RQvh3EkoCmwiS2ojTzqXiNlBuqlOMW5EYcKbK82duBO6omoV08llK28uizy2Fb3GKFeiZTO+tQreHAW9QR1/elDikI0LGHhWB1mKZVOJ6AwGwCT47U54Vi6FrcAUClEJUnoaEWGFOquVuFAyZcs8/M0lYOg2+LOtIWSFpUVpPWdI8RTuGTTi36D/2bnZWqufKXE8CCdAUKT836e1Kd+UthQIkJJVPMA8xTFhD+dotnmCAT1oRidsrIUrA6a80nlP2pnDqo4kNvuDv0HL8yHiQfDob7xcuLMFWYEGUEJI5j5k6dZpXvLl5thDiSc6VKSoHYiToabEKhPZwFJCNf9aIHoY1rbFbFi6twUEtkDMeUlOneBH1rqZmA+Zf3ectAxXynpy/j995z4cxoPMiZQoabaAx47014O64GgVgKGspOuxiR0pA4atye1TnBhSTA8iKOYXja2hkXKk5lARuOkVxOIdtfhrsav2nWRT4d8/yI09kS7LRSDpKFaR5V5d5myCsDU8qE2t+FKGU6zpNSsRfW8gJnKR12PkqhycOGth81EekxHre9pwxG3zO7wFI38QalWQW0lIBobcoUmCUmRzzE/SuzN+kJCVmDIArmHFlwYVB5huY7XKUzAkhthC5xdQ/NWVz/AAKDrrWV2vP3m6eH9ZNSZNReIBNs8P6DUttNQOJiU2zuo+Qk+QiarPKRjnBz1wFpRI7yRBPUULcv09t+HSoB1Wo/pTupR8AJNKuNcawpbTAGg+c9Y5ChnBN/ncuVOPJS+4xkaWswJJOYZuWyalLSrFgLMAZy4hdXevOKSYt2EnKTsEJ0KvFSle5Iodht8Uzt7TTLjWDvN2zTDLKlJMLdUgBUlOiU92dBqfalRy0cbBzoWiT+ZJT9xSzvPosB07CFkYuSSMqdBMkaeVdjdJUAYHpA+80Ntk9oMo8B5kzXt8A3KemlBphY+JLNRO1E/eh+DODraHXjqQlInkZIjy5z7V1srOJIUBPgR9QTUbDxoT1P2/5mpeaIo3JBodInhkVk1sN2JP8APL7VIFxhynStIWAQqZJOup123qaLTkSlXnl/WudsuFrrd54AE9BPtXnJupnC4kVS3qR/BM9/wpB/8ptXiAB9UxXj+FNEatKHilZ/+2agTdwrsmQFHMpzXWdJPX0pkt3HNMpJzEgJmSYiYTziR714hl6wsfgZRbIOQO9dd5yw7DEIzqbUohIGdKgJAJABBGhGvQVIssKavzcJ7QhTKE5MsEFZ7QnN1GwgRvRS0sZcCCJS+ktr8lpy/Qn6UrfDe6U3eJRB/iIUkxyKRmB90ketNxNqBnK+KcMuBxoGxiu4IjlPvRrhq9cL7DSSEhTiASSeagOR3/Wmv4i8MpLartpMLTq6B+ZJ0zx1HPqJPKq8tQrMMoJVMiN5HMR96fzE5c+p+EXv8xPiaWMWxAW77oA5zAGpnWu3wtxJx5vM6IckpVtqREKIGxINSuL8NC1uEDKUpzlWska6dKQ2Ncg0nlco8Q4m1DtCdxizaEsy2uFp1IQd4G8VKs7xLi05WylP8xESfKkT/wAYui27FK20qZCRmWZUvyT+tFcJ4lXcFJU82nIJKBvp160D4vDeqlOJlyY7679T+I5svZHVJUQEq1T+s1V160VYy6pCO6hHeO3dI5DnrRq+4i/EKyBRkHulKTqfDSjCMKR2n4kuSvKlCx4cvrNOLnw2rsakhXTkAMHM3K0NKKCNBKDzSo8lUbWVPW6kqVLkFSVTAP7UPZw8fxk65VHXzIoLYXzjaxbOKhSDLauqRsJ6j6ipcGY2Ao9faezr3MkpzEDOAXMneGxUIhRB6ipOD26G09m4n5gYJ6EkiRU68ZFwkvCA4lJCwPoQOhio2GXRuGkhxIKkg96NolOnQ11cuQtj9/7znY8YXJ7fba5OZwZnKcsNrJnNuCBtPhQb8CtpRDgSSXJBA0ggQdaNKalttQ7pB18Y5GiLVwl7+EtIM9f0rlZNDZa/3FTR9J0AGVdQNjtE9YLTinMkRr5g8/OjVo/2iQBGg1BrzHGA22sOd0R3Sdvel91lyErQrQoB06RReJodvQTdm+WvpDibmVFEbbBW8eFdG7PP8u/SgNve9qkFfdI0nyo/hrZSNVTPynnXg4O/eaVQi12PaEU4a7G31r2paX3o3FZWf6f/ACMVbTgoTQjHLYdi9pu2sTz2NZWVeeUFec+fVp0PpWrK4II3FZWVCJ0sm1QnbqWACglMgHuqKd/KiFvi92gSl5wD/UD96ysoTPoMI1YwSek2XxG8FArDSz/U2J9xWi8WQ4SlVqhWbcpWQdxsSJEmOfOsrK0KJNxDFUau3pDFtxLaJQlpywaISIlTaSrxlYUCT1NDL9dk4uWniwIgIU2pcH+lQkx4EnzrKyhXGOYhKoFUJjfDxWYtnkOCdc4Ugxz/ACxRJjg5/KorbCzqIzpiCCBooa8p/s15WVhc3EvjCgoCQOf8mccXw1aUqDbfZt6DUNhSfmkp7MxPI9YB8AJYZBW4pfahztAltKFhAKFJTmTmAJSDAE7wPSsrKLHlLCRcRwiY+RMk8IMrS6t92T2AUYzFQSROUCTJ6T+lLXCF5kvWFnmsJP8A6ko+6p9KysqnDuWkXFfInvLtKQoZSAQRBB2IOhBpN4i4caskIVbjKh2UlJJJCwCpJCjrBEiD0FeVlY/KIxHzCS/hTic3CYlIUFIUmZGYAKTPUgBWv9VWVxAyvMXBlydmQvMTt5AGaysrBsDXeblO4PpELC8Km4zNNoeR2eoASgAzA+bU1YoK0yUsNBIHhP0rKytbdST6/aeGzAfScLpTqFIUnISoHuxsPOh2FrUblSFgAbkA7g8/esrKQo00ByP9ozLut9R/eFF2ykurStQKFQUwKUuJ7FJWqDCxlLZ6KmKysoMKAcYtev4isx/0CZ04dxQqT2gH8RBKVJ5Ej5k9I5g0Vu7pDSmnG9G3RonqSZVPQzFe1ldHJ5SakhPlB71+RCLVmh1B5LOoVHTkYrhkKFAOABfLKSdKysqTJjW/ErcAiVY7U6QdpNtr8u9xSQpOxn9qF8Q2vYCdm4gRy9KysochLI99J7OBjNrE+2bLzSihUQo1Ps7lxJCCdQJrKypiSq4gOu0MnxMZJ6SwrZ4FCT4CsrKypjzgAz//2Q==\">\n",
    "\n",
    "# Customer Supermarket Case Study\n",
    "\n",
    "**Sorrenti Marco, Simone Baccile, Lorenzo Simone**\n",
    "\n",
    "**Università di Pisa**\n",
    "\n",
    "In this notebook, we will try to understand **attributes** and **properties** of the customer_supermarket.csv dataset."
   ]
  },
  {
   "cell_type": "markdown",
   "metadata": {},
   "source": [
    "## Contents\n",
    "1. [Dataset Description](#dataset) \n",
    "    1. [Load dataset](#ld)\n",
    "    2. [Description](#d)\n",
    "2. [Data Cleaning](#cleaning) \n",
    "    1. [Outliers](#ou)\n",
    "    2. [Missing values](#mv)\n",
    "3. [Feature Engineering](#feature)\n",
    "    1. [Mandatory](#mf)\n",
    "    2. [Others](#nf)\n",
    "4. [Data Preparation](#preparation)\n",
    "    1. [Feature correlation](#fc)"
   ]
  },
  {
   "cell_type": "markdown",
   "metadata": {},
   "source": [
    "<a id='dataset'></a>\n",
    "## 1. Dataset description ([to top](#top))\n",
    "As first step of our project we load the whole dataset and make confidence with its features..."
   ]
  },
  {
   "cell_type": "markdown",
   "metadata": {},
   "source": [
    "<a id='ld'></a>\n",
    "### 1.A Load dataset ([to top](#top))\n",
    "Load the dataset"
   ]
  },
  {
   "cell_type": "markdown",
   "metadata": {},
   "source": [
    "Let's import some useful packages"
   ]
  },
  {
   "cell_type": "code",
   "execution_count": 1,
   "metadata": {},
   "outputs": [],
   "source": [
    "import pandas as pd\n",
    "import matplotlib.pyplot as plt\n",
    "from pandas.plotting import scatter_matrix\n",
    "import numpy as np\n",
    "import seaborn as sns\n",
    "from pandas.tseries.holiday import USFederalHolidayCalendar as calendar\n",
    "\n",
    "%matplotlib inline"
   ]
  },
  {
   "cell_type": "code",
   "execution_count": 2,
   "metadata": {},
   "outputs": [],
   "source": [
    "df = pd.read_csv(\"data/customer_supermarket.csv\", sep='\\t', decimal=',')"
   ]
  },
  {
   "cell_type": "markdown",
   "metadata": {},
   "source": [
    "<a id='d'></a>\n",
    "### 1.B Description ([to top](#top))"
   ]
  },
  {
   "cell_type": "code",
   "execution_count": 3,
   "metadata": {},
   "outputs": [
    {
     "data": {
      "text/html": [
       "<div>\n",
       "<style scoped>\n",
       "    .dataframe tbody tr th:only-of-type {\n",
       "        vertical-align: middle;\n",
       "    }\n",
       "\n",
       "    .dataframe tbody tr th {\n",
       "        vertical-align: top;\n",
       "    }\n",
       "\n",
       "    .dataframe thead th {\n",
       "        text-align: right;\n",
       "    }\n",
       "</style>\n",
       "<table border=\"1\" class=\"dataframe\">\n",
       "  <thead>\n",
       "    <tr style=\"text-align: right;\">\n",
       "      <th></th>\n",
       "      <th>Unnamed: 0</th>\n",
       "      <th>BasketID</th>\n",
       "      <th>BasketDate</th>\n",
       "      <th>Sale</th>\n",
       "      <th>CustomerID</th>\n",
       "      <th>CustomerCountry</th>\n",
       "      <th>ProdID</th>\n",
       "      <th>ProdDescr</th>\n",
       "      <th>Qta</th>\n",
       "    </tr>\n",
       "  </thead>\n",
       "  <tbody>\n",
       "    <tr>\n",
       "      <th>0</th>\n",
       "      <td>0</td>\n",
       "      <td>536365</td>\n",
       "      <td>01/12/10 08:26</td>\n",
       "      <td>2.55</td>\n",
       "      <td>17850.0</td>\n",
       "      <td>United Kingdom</td>\n",
       "      <td>85123A</td>\n",
       "      <td>WHITE HANGING HEART T-LIGHT HOLDER</td>\n",
       "      <td>6</td>\n",
       "    </tr>\n",
       "    <tr>\n",
       "      <th>1</th>\n",
       "      <td>1</td>\n",
       "      <td>536365</td>\n",
       "      <td>01/12/10 08:26</td>\n",
       "      <td>3.39</td>\n",
       "      <td>17850.0</td>\n",
       "      <td>United Kingdom</td>\n",
       "      <td>71053</td>\n",
       "      <td>WHITE METAL LANTERN</td>\n",
       "      <td>6</td>\n",
       "    </tr>\n",
       "    <tr>\n",
       "      <th>2</th>\n",
       "      <td>2</td>\n",
       "      <td>536365</td>\n",
       "      <td>01/12/10 08:26</td>\n",
       "      <td>2.75</td>\n",
       "      <td>17850.0</td>\n",
       "      <td>United Kingdom</td>\n",
       "      <td>84406B</td>\n",
       "      <td>CREAM CUPID HEARTS COAT HANGER</td>\n",
       "      <td>8</td>\n",
       "    </tr>\n",
       "    <tr>\n",
       "      <th>3</th>\n",
       "      <td>3</td>\n",
       "      <td>536365</td>\n",
       "      <td>01/12/10 08:26</td>\n",
       "      <td>3.39</td>\n",
       "      <td>17850.0</td>\n",
       "      <td>United Kingdom</td>\n",
       "      <td>84029G</td>\n",
       "      <td>KNITTED UNION FLAG HOT WATER BOTTLE</td>\n",
       "      <td>6</td>\n",
       "    </tr>\n",
       "    <tr>\n",
       "      <th>4</th>\n",
       "      <td>4</td>\n",
       "      <td>536365</td>\n",
       "      <td>01/12/10 08:26</td>\n",
       "      <td>3.39</td>\n",
       "      <td>17850.0</td>\n",
       "      <td>United Kingdom</td>\n",
       "      <td>84029E</td>\n",
       "      <td>RED WOOLLY HOTTIE WHITE HEART.</td>\n",
       "      <td>6</td>\n",
       "    </tr>\n",
       "    <tr>\n",
       "      <th>5</th>\n",
       "      <td>5</td>\n",
       "      <td>536365</td>\n",
       "      <td>01/12/10 08:26</td>\n",
       "      <td>7.65</td>\n",
       "      <td>17850.0</td>\n",
       "      <td>United Kingdom</td>\n",
       "      <td>22752</td>\n",
       "      <td>SET 7 BABUSHKA NESTING BOXES</td>\n",
       "      <td>2</td>\n",
       "    </tr>\n",
       "    <tr>\n",
       "      <th>6</th>\n",
       "      <td>6</td>\n",
       "      <td>536365</td>\n",
       "      <td>01/12/10 08:26</td>\n",
       "      <td>4.25</td>\n",
       "      <td>17850.0</td>\n",
       "      <td>United Kingdom</td>\n",
       "      <td>21730</td>\n",
       "      <td>GLASS STAR FROSTED T-LIGHT HOLDER</td>\n",
       "      <td>6</td>\n",
       "    </tr>\n",
       "    <tr>\n",
       "      <th>7</th>\n",
       "      <td>7</td>\n",
       "      <td>536366</td>\n",
       "      <td>01/12/10 08:28</td>\n",
       "      <td>1.85</td>\n",
       "      <td>17850.0</td>\n",
       "      <td>United Kingdom</td>\n",
       "      <td>22633</td>\n",
       "      <td>HAND WARMER UNION JACK</td>\n",
       "      <td>6</td>\n",
       "    </tr>\n",
       "    <tr>\n",
       "      <th>8</th>\n",
       "      <td>8</td>\n",
       "      <td>536366</td>\n",
       "      <td>01/12/10 08:28</td>\n",
       "      <td>1.85</td>\n",
       "      <td>17850.0</td>\n",
       "      <td>United Kingdom</td>\n",
       "      <td>22632</td>\n",
       "      <td>HAND WARMER RED POLKA DOT</td>\n",
       "      <td>6</td>\n",
       "    </tr>\n",
       "    <tr>\n",
       "      <th>9</th>\n",
       "      <td>9</td>\n",
       "      <td>536368</td>\n",
       "      <td>01/12/10 08:34</td>\n",
       "      <td>4.25</td>\n",
       "      <td>13047.0</td>\n",
       "      <td>United Kingdom</td>\n",
       "      <td>22960</td>\n",
       "      <td>JAM MAKING SET WITH JARS</td>\n",
       "      <td>6</td>\n",
       "    </tr>\n",
       "  </tbody>\n",
       "</table>\n",
       "</div>"
      ],
      "text/plain": [
       "   Unnamed: 0 BasketID      BasketDate  Sale CustomerID CustomerCountry  \\\n",
       "0           0   536365  01/12/10 08:26  2.55    17850.0  United Kingdom   \n",
       "1           1   536365  01/12/10 08:26  3.39    17850.0  United Kingdom   \n",
       "2           2   536365  01/12/10 08:26  2.75    17850.0  United Kingdom   \n",
       "3           3   536365  01/12/10 08:26  3.39    17850.0  United Kingdom   \n",
       "4           4   536365  01/12/10 08:26  3.39    17850.0  United Kingdom   \n",
       "5           5   536365  01/12/10 08:26  7.65    17850.0  United Kingdom   \n",
       "6           6   536365  01/12/10 08:26  4.25    17850.0  United Kingdom   \n",
       "7           7   536366  01/12/10 08:28  1.85    17850.0  United Kingdom   \n",
       "8           8   536366  01/12/10 08:28  1.85    17850.0  United Kingdom   \n",
       "9           9   536368  01/12/10 08:34  4.25    13047.0  United Kingdom   \n",
       "\n",
       "   ProdID                            ProdDescr  Qta  \n",
       "0  85123A   WHITE HANGING HEART T-LIGHT HOLDER    6  \n",
       "1   71053                  WHITE METAL LANTERN    6  \n",
       "2  84406B       CREAM CUPID HEARTS COAT HANGER    8  \n",
       "3  84029G  KNITTED UNION FLAG HOT WATER BOTTLE    6  \n",
       "4  84029E       RED WOOLLY HOTTIE WHITE HEART.    6  \n",
       "5   22752         SET 7 BABUSHKA NESTING BOXES    2  \n",
       "6   21730    GLASS STAR FROSTED T-LIGHT HOLDER    6  \n",
       "7   22633               HAND WARMER UNION JACK    6  \n",
       "8   22632            HAND WARMER RED POLKA DOT    6  \n",
       "9   22960             JAM MAKING SET WITH JARS    6  "
      ]
     },
     "execution_count": 3,
     "metadata": {},
     "output_type": "execute_result"
    }
   ],
   "source": [
    "df.head(10)"
   ]
  },
  {
   "cell_type": "code",
   "execution_count": 4,
   "metadata": {},
   "outputs": [
    {
     "data": {
      "text/html": [
       "<div>\n",
       "<style scoped>\n",
       "    .dataframe tbody tr th:only-of-type {\n",
       "        vertical-align: middle;\n",
       "    }\n",
       "\n",
       "    .dataframe tbody tr th {\n",
       "        vertical-align: top;\n",
       "    }\n",
       "\n",
       "    .dataframe thead th {\n",
       "        text-align: right;\n",
       "    }\n",
       "</style>\n",
       "<table border=\"1\" class=\"dataframe\">\n",
       "  <thead>\n",
       "    <tr style=\"text-align: right;\">\n",
       "      <th></th>\n",
       "      <th>Unnamed: 0</th>\n",
       "      <th>BasketID</th>\n",
       "      <th>BasketDate</th>\n",
       "      <th>Sale</th>\n",
       "      <th>CustomerID</th>\n",
       "      <th>CustomerCountry</th>\n",
       "      <th>ProdID</th>\n",
       "      <th>ProdDescr</th>\n",
       "      <th>Qta</th>\n",
       "    </tr>\n",
       "  </thead>\n",
       "  <tbody>\n",
       "    <tr>\n",
       "      <th>471900</th>\n",
       "      <td>541900</td>\n",
       "      <td>581587</td>\n",
       "      <td>09/12/11 12:50</td>\n",
       "      <td>3.75</td>\n",
       "      <td>12680.0</td>\n",
       "      <td>France</td>\n",
       "      <td>22730</td>\n",
       "      <td>ALARM CLOCK BAKELIKE IVORY</td>\n",
       "      <td>4</td>\n",
       "    </tr>\n",
       "    <tr>\n",
       "      <th>471901</th>\n",
       "      <td>541901</td>\n",
       "      <td>581587</td>\n",
       "      <td>09/12/11 12:50</td>\n",
       "      <td>1.95</td>\n",
       "      <td>12680.0</td>\n",
       "      <td>France</td>\n",
       "      <td>22367</td>\n",
       "      <td>CHILDRENS APRON SPACEBOY DESIGN</td>\n",
       "      <td>8</td>\n",
       "    </tr>\n",
       "    <tr>\n",
       "      <th>471902</th>\n",
       "      <td>541902</td>\n",
       "      <td>581587</td>\n",
       "      <td>09/12/11 12:50</td>\n",
       "      <td>1.95</td>\n",
       "      <td>12680.0</td>\n",
       "      <td>France</td>\n",
       "      <td>22629</td>\n",
       "      <td>SPACEBOY LUNCH BOX</td>\n",
       "      <td>12</td>\n",
       "    </tr>\n",
       "    <tr>\n",
       "      <th>471903</th>\n",
       "      <td>541903</td>\n",
       "      <td>581587</td>\n",
       "      <td>09/12/11 12:50</td>\n",
       "      <td>4.15</td>\n",
       "      <td>12680.0</td>\n",
       "      <td>France</td>\n",
       "      <td>23256</td>\n",
       "      <td>CHILDRENS CUTLERY SPACEBOY</td>\n",
       "      <td>4</td>\n",
       "    </tr>\n",
       "    <tr>\n",
       "      <th>471904</th>\n",
       "      <td>541904</td>\n",
       "      <td>581587</td>\n",
       "      <td>09/12/11 12:50</td>\n",
       "      <td>0.85</td>\n",
       "      <td>12680.0</td>\n",
       "      <td>France</td>\n",
       "      <td>22613</td>\n",
       "      <td>PACK OF 20 SPACEBOY NAPKINS</td>\n",
       "      <td>12</td>\n",
       "    </tr>\n",
       "    <tr>\n",
       "      <th>471905</th>\n",
       "      <td>541905</td>\n",
       "      <td>581587</td>\n",
       "      <td>09/12/11 12:50</td>\n",
       "      <td>2.10</td>\n",
       "      <td>12680.0</td>\n",
       "      <td>France</td>\n",
       "      <td>22899</td>\n",
       "      <td>CHILDREN'S APRON DOLLY GIRL</td>\n",
       "      <td>6</td>\n",
       "    </tr>\n",
       "    <tr>\n",
       "      <th>471906</th>\n",
       "      <td>541906</td>\n",
       "      <td>581587</td>\n",
       "      <td>09/12/11 12:50</td>\n",
       "      <td>4.15</td>\n",
       "      <td>12680.0</td>\n",
       "      <td>France</td>\n",
       "      <td>23254</td>\n",
       "      <td>CHILDRENS CUTLERY DOLLY GIRL</td>\n",
       "      <td>4</td>\n",
       "    </tr>\n",
       "    <tr>\n",
       "      <th>471907</th>\n",
       "      <td>541907</td>\n",
       "      <td>581587</td>\n",
       "      <td>09/12/11 12:50</td>\n",
       "      <td>4.15</td>\n",
       "      <td>12680.0</td>\n",
       "      <td>France</td>\n",
       "      <td>23255</td>\n",
       "      <td>CHILDRENS CUTLERY CIRCUS PARADE</td>\n",
       "      <td>4</td>\n",
       "    </tr>\n",
       "    <tr>\n",
       "      <th>471908</th>\n",
       "      <td>541908</td>\n",
       "      <td>581587</td>\n",
       "      <td>09/12/11 12:50</td>\n",
       "      <td>4.95</td>\n",
       "      <td>12680.0</td>\n",
       "      <td>France</td>\n",
       "      <td>22138</td>\n",
       "      <td>BAKING SET 9 PIECE RETROSPOT</td>\n",
       "      <td>3</td>\n",
       "    </tr>\n",
       "    <tr>\n",
       "      <th>471909</th>\n",
       "      <td>541909</td>\n",
       "      <td>581587</td>\n",
       "      <td>09/12/11 12:50</td>\n",
       "      <td>18.00</td>\n",
       "      <td>12680.0</td>\n",
       "      <td>France</td>\n",
       "      <td>POST</td>\n",
       "      <td>POSTAGE</td>\n",
       "      <td>1</td>\n",
       "    </tr>\n",
       "  </tbody>\n",
       "</table>\n",
       "</div>"
      ],
      "text/plain": [
       "        Unnamed: 0 BasketID      BasketDate   Sale CustomerID CustomerCountry  \\\n",
       "471900      541900   581587  09/12/11 12:50   3.75    12680.0          France   \n",
       "471901      541901   581587  09/12/11 12:50   1.95    12680.0          France   \n",
       "471902      541902   581587  09/12/11 12:50   1.95    12680.0          France   \n",
       "471903      541903   581587  09/12/11 12:50   4.15    12680.0          France   \n",
       "471904      541904   581587  09/12/11 12:50   0.85    12680.0          France   \n",
       "471905      541905   581587  09/12/11 12:50   2.10    12680.0          France   \n",
       "471906      541906   581587  09/12/11 12:50   4.15    12680.0          France   \n",
       "471907      541907   581587  09/12/11 12:50   4.15    12680.0          France   \n",
       "471908      541908   581587  09/12/11 12:50   4.95    12680.0          France   \n",
       "471909      541909   581587  09/12/11 12:50  18.00    12680.0          France   \n",
       "\n",
       "       ProdID                        ProdDescr  Qta  \n",
       "471900  22730       ALARM CLOCK BAKELIKE IVORY    4  \n",
       "471901  22367  CHILDRENS APRON SPACEBOY DESIGN    8  \n",
       "471902  22629              SPACEBOY LUNCH BOX    12  \n",
       "471903  23256      CHILDRENS CUTLERY SPACEBOY     4  \n",
       "471904  22613      PACK OF 20 SPACEBOY NAPKINS   12  \n",
       "471905  22899     CHILDREN'S APRON DOLLY GIRL     6  \n",
       "471906  23254    CHILDRENS CUTLERY DOLLY GIRL     4  \n",
       "471907  23255  CHILDRENS CUTLERY CIRCUS PARADE    4  \n",
       "471908  22138    BAKING SET 9 PIECE RETROSPOT     3  \n",
       "471909   POST                          POSTAGE    1  "
      ]
     },
     "execution_count": 4,
     "metadata": {},
     "output_type": "execute_result"
    }
   ],
   "source": [
    "df.tail(10)"
   ]
  },
  {
   "cell_type": "code",
   "execution_count": 5,
   "metadata": {},
   "outputs": [
    {
     "name": "stdout",
     "output_type": "stream",
     "text": [
      "<class 'pandas.core.frame.DataFrame'>\n",
      "RangeIndex: 471910 entries, 0 to 471909\n",
      "Data columns (total 9 columns):\n",
      " #   Column           Non-Null Count   Dtype  \n",
      "---  ------           --------------   -----  \n",
      " 0   Unnamed: 0       471910 non-null  int64  \n",
      " 1   BasketID         471910 non-null  object \n",
      " 2   BasketDate       471910 non-null  object \n",
      " 3   Sale             471910 non-null  float64\n",
      " 4   CustomerID       406830 non-null  object \n",
      " 5   CustomerCountry  471910 non-null  object \n",
      " 6   ProdID           471910 non-null  object \n",
      " 7   ProdDescr        471157 non-null  object \n",
      " 8   Qta              471910 non-null  int64  \n",
      "dtypes: float64(1), int64(2), object(6)\n",
      "memory usage: 32.4+ MB\n"
     ]
    }
   ],
   "source": [
    "df.info()"
   ]
  },
  {
   "cell_type": "code",
   "execution_count": 6,
   "metadata": {},
   "outputs": [
    {
     "data": {
      "text/plain": [
       "Unnamed: 0           int64\n",
       "BasketID            object\n",
       "BasketDate          object\n",
       "Sale               float64\n",
       "CustomerID          object\n",
       "CustomerCountry     object\n",
       "ProdID              object\n",
       "ProdDescr           object\n",
       "Qta                  int64\n",
       "dtype: object"
      ]
     },
     "execution_count": 6,
     "metadata": {},
     "output_type": "execute_result"
    }
   ],
   "source": [
    "df.dtypes"
   ]
  },
  {
   "cell_type": "code",
   "execution_count": 7,
   "metadata": {},
   "outputs": [
    {
     "data": {
      "text/html": [
       "<div>\n",
       "<style scoped>\n",
       "    .dataframe tbody tr th:only-of-type {\n",
       "        vertical-align: middle;\n",
       "    }\n",
       "\n",
       "    .dataframe tbody tr th {\n",
       "        vertical-align: top;\n",
       "    }\n",
       "\n",
       "    .dataframe thead th {\n",
       "        text-align: right;\n",
       "    }\n",
       "</style>\n",
       "<table border=\"1\" class=\"dataframe\">\n",
       "  <thead>\n",
       "    <tr style=\"text-align: right;\">\n",
       "      <th></th>\n",
       "      <th>Unnamed: 0</th>\n",
       "      <th>Sale</th>\n",
       "      <th>Qta</th>\n",
       "    </tr>\n",
       "  </thead>\n",
       "  <tbody>\n",
       "    <tr>\n",
       "      <th>count</th>\n",
       "      <td>471910.000000</td>\n",
       "      <td>471910.000000</td>\n",
       "      <td>471910.000000</td>\n",
       "    </tr>\n",
       "    <tr>\n",
       "      <th>mean</th>\n",
       "      <td>274019.325265</td>\n",
       "      <td>4.030945</td>\n",
       "      <td>10.716533</td>\n",
       "    </tr>\n",
       "    <tr>\n",
       "      <th>std</th>\n",
       "      <td>154859.591780</td>\n",
       "      <td>83.769380</td>\n",
       "      <td>231.355136</td>\n",
       "    </tr>\n",
       "    <tr>\n",
       "      <th>min</th>\n",
       "      <td>0.000000</td>\n",
       "      <td>-11062.060000</td>\n",
       "      <td>-80995.000000</td>\n",
       "    </tr>\n",
       "    <tr>\n",
       "      <th>25%</th>\n",
       "      <td>140934.250000</td>\n",
       "      <td>1.250000</td>\n",
       "      <td>1.000000</td>\n",
       "    </tr>\n",
       "    <tr>\n",
       "      <th>50%</th>\n",
       "      <td>276740.500000</td>\n",
       "      <td>2.080000</td>\n",
       "      <td>4.000000</td>\n",
       "    </tr>\n",
       "    <tr>\n",
       "      <th>75%</th>\n",
       "      <td>407825.750000</td>\n",
       "      <td>3.750000</td>\n",
       "      <td>12.000000</td>\n",
       "    </tr>\n",
       "    <tr>\n",
       "      <th>max</th>\n",
       "      <td>541909.000000</td>\n",
       "      <td>38970.000000</td>\n",
       "      <td>80995.000000</td>\n",
       "    </tr>\n",
       "  </tbody>\n",
       "</table>\n",
       "</div>"
      ],
      "text/plain": [
       "          Unnamed: 0           Sale            Qta\n",
       "count  471910.000000  471910.000000  471910.000000\n",
       "mean   274019.325265       4.030945      10.716533\n",
       "std    154859.591780      83.769380     231.355136\n",
       "min         0.000000  -11062.060000  -80995.000000\n",
       "25%    140934.250000       1.250000       1.000000\n",
       "50%    276740.500000       2.080000       4.000000\n",
       "75%    407825.750000       3.750000      12.000000\n",
       "max    541909.000000   38970.000000   80995.000000"
      ]
     },
     "execution_count": 7,
     "metadata": {},
     "output_type": "execute_result"
    }
   ],
   "source": [
    "df.describe()"
   ]
  },
  {
   "cell_type": "markdown",
   "metadata": {},
   "source": [
    "There are possible outliers in Sale and Qta."
   ]
  },
  {
   "cell_type": "code",
   "execution_count": 8,
   "metadata": {},
   "outputs": [
    {
     "data": {
      "text/html": [
       "<div>\n",
       "<style scoped>\n",
       "    .dataframe tbody tr th:only-of-type {\n",
       "        vertical-align: middle;\n",
       "    }\n",
       "\n",
       "    .dataframe tbody tr th {\n",
       "        vertical-align: top;\n",
       "    }\n",
       "\n",
       "    .dataframe thead th {\n",
       "        text-align: right;\n",
       "    }\n",
       "</style>\n",
       "<table border=\"1\" class=\"dataframe\">\n",
       "  <thead>\n",
       "    <tr style=\"text-align: right;\">\n",
       "      <th></th>\n",
       "      <th>Customers</th>\n",
       "      <th>Countries</th>\n",
       "      <th>Baskets</th>\n",
       "      <th>Products</th>\n",
       "    </tr>\n",
       "  </thead>\n",
       "  <tbody>\n",
       "    <tr>\n",
       "      <th>Quantity</th>\n",
       "      <td>4372</td>\n",
       "      <td>38</td>\n",
       "      <td>24627</td>\n",
       "      <td>3953</td>\n",
       "    </tr>\n",
       "  </tbody>\n",
       "</table>\n",
       "</div>"
      ],
      "text/plain": [
       "          Customers  Countries  Baskets  Products\n",
       "Quantity       4372         38    24627      3953"
      ]
     },
     "execution_count": 8,
     "metadata": {},
     "output_type": "execute_result"
    }
   ],
   "source": [
    "pd.DataFrame([{'Customers': len(df['CustomerID'].value_counts()),\n",
    "               'Countries': len(df['CustomerCountry'].value_counts()),\n",
    "               'Baskets': len(df['BasketID'].value_counts()),\n",
    "               'Products': len(df['ProdID'].value_counts()),              \n",
    "              }], columns = ['Customers', 'Countries', 'Baskets', 'Products'], index = ['Quantity'])"
   ]
  },
  {
   "cell_type": "code",
   "execution_count": 9,
   "metadata": {},
   "outputs": [
    {
     "data": {
      "text/plain": [
       "Unnamed: 0             0\n",
       "BasketID               0\n",
       "BasketDate             0\n",
       "Sale                   0\n",
       "CustomerID         65080\n",
       "CustomerCountry        0\n",
       "ProdID                 0\n",
       "ProdDescr            753\n",
       "Qta                    0\n",
       "dtype: int64"
      ]
     },
     "execution_count": 9,
     "metadata": {},
     "output_type": "execute_result"
    }
   ],
   "source": [
    "df.isnull().sum()"
   ]
  },
  {
   "cell_type": "markdown",
   "metadata": {},
   "source": [
    "This dataset is made up by 471910 records (rows) and 9 variables (columns).\n",
    "As first check, we can see that there are some missing values:\n",
    "- ``CustomerID``: 65080 missing values.\n",
    "- ``ProdDescr``: 753 missing values.\n",
    "\n",
    "Let's now descript each variable.\n",
    "\n",
    "- ``Unnamed: 0`` is the index column (it could be dropped).\n",
    "- ``BasketID`` is the index of the basket (we should reset index).\n",
    "- ``BasketDate`` represent the purchasing date.\n",
    "- ``Sale`` is the selling price of the single bought product.\n",
    "- ``CustomerID`` is the user id (we should reset index).\n",
    "- ``CustomerCountry`` is the user country.\n",
    "- ``ProdID`` is the id of the products.\n",
    "- ``ProdDescr`` is the description of each bought product.\n",
    "- ``Qta`` is the number of each bought product."
   ]
  },
  {
   "cell_type": "markdown",
   "metadata": {},
   "source": [
    "<a id='cleaning'></a>\n",
    "## 2. Data Cleaning ([to top](#top))\n",
    "In this stage, we will clean our data by handling missing information, outliers."
   ]
  },
  {
   "cell_type": "markdown",
   "metadata": {},
   "source": [
    "We drop the ``Unnamed: 0`` attribute, because it is not useful."
   ]
  },
  {
   "cell_type": "code",
   "execution_count": 10,
   "metadata": {},
   "outputs": [],
   "source": [
    "df.drop(columns=['Unnamed: 0'],inplace=True)"
   ]
  },
  {
   "cell_type": "code",
   "execution_count": 11,
   "metadata": {},
   "outputs": [
    {
     "data": {
      "text/html": [
       "<div>\n",
       "<style scoped>\n",
       "    .dataframe tbody tr th:only-of-type {\n",
       "        vertical-align: middle;\n",
       "    }\n",
       "\n",
       "    .dataframe tbody tr th {\n",
       "        vertical-align: top;\n",
       "    }\n",
       "\n",
       "    .dataframe thead th {\n",
       "        text-align: right;\n",
       "    }\n",
       "</style>\n",
       "<table border=\"1\" class=\"dataframe\">\n",
       "  <thead>\n",
       "    <tr style=\"text-align: right;\">\n",
       "      <th></th>\n",
       "      <th>BasketID</th>\n",
       "      <th>BasketDate</th>\n",
       "      <th>Sale</th>\n",
       "      <th>CustomerID</th>\n",
       "      <th>CustomerCountry</th>\n",
       "      <th>ProdID</th>\n",
       "      <th>ProdDescr</th>\n",
       "      <th>Qta</th>\n",
       "    </tr>\n",
       "  </thead>\n",
       "  <tbody>\n",
       "    <tr>\n",
       "      <th>0</th>\n",
       "      <td>536365</td>\n",
       "      <td>01/12/10 08:26</td>\n",
       "      <td>2.55</td>\n",
       "      <td>17850.0</td>\n",
       "      <td>United Kingdom</td>\n",
       "      <td>85123A</td>\n",
       "      <td>WHITE HANGING HEART T-LIGHT HOLDER</td>\n",
       "      <td>6</td>\n",
       "    </tr>\n",
       "    <tr>\n",
       "      <th>1</th>\n",
       "      <td>536365</td>\n",
       "      <td>01/12/10 08:26</td>\n",
       "      <td>3.39</td>\n",
       "      <td>17850.0</td>\n",
       "      <td>United Kingdom</td>\n",
       "      <td>71053</td>\n",
       "      <td>WHITE METAL LANTERN</td>\n",
       "      <td>6</td>\n",
       "    </tr>\n",
       "    <tr>\n",
       "      <th>2</th>\n",
       "      <td>536365</td>\n",
       "      <td>01/12/10 08:26</td>\n",
       "      <td>2.75</td>\n",
       "      <td>17850.0</td>\n",
       "      <td>United Kingdom</td>\n",
       "      <td>84406B</td>\n",
       "      <td>CREAM CUPID HEARTS COAT HANGER</td>\n",
       "      <td>8</td>\n",
       "    </tr>\n",
       "    <tr>\n",
       "      <th>3</th>\n",
       "      <td>536365</td>\n",
       "      <td>01/12/10 08:26</td>\n",
       "      <td>3.39</td>\n",
       "      <td>17850.0</td>\n",
       "      <td>United Kingdom</td>\n",
       "      <td>84029G</td>\n",
       "      <td>KNITTED UNION FLAG HOT WATER BOTTLE</td>\n",
       "      <td>6</td>\n",
       "    </tr>\n",
       "    <tr>\n",
       "      <th>4</th>\n",
       "      <td>536365</td>\n",
       "      <td>01/12/10 08:26</td>\n",
       "      <td>3.39</td>\n",
       "      <td>17850.0</td>\n",
       "      <td>United Kingdom</td>\n",
       "      <td>84029E</td>\n",
       "      <td>RED WOOLLY HOTTIE WHITE HEART.</td>\n",
       "      <td>6</td>\n",
       "    </tr>\n",
       "  </tbody>\n",
       "</table>\n",
       "</div>"
      ],
      "text/plain": [
       "  BasketID      BasketDate  Sale CustomerID CustomerCountry  ProdID  \\\n",
       "0   536365  01/12/10 08:26  2.55    17850.0  United Kingdom  85123A   \n",
       "1   536365  01/12/10 08:26  3.39    17850.0  United Kingdom   71053   \n",
       "2   536365  01/12/10 08:26  2.75    17850.0  United Kingdom  84406B   \n",
       "3   536365  01/12/10 08:26  3.39    17850.0  United Kingdom  84029G   \n",
       "4   536365  01/12/10 08:26  3.39    17850.0  United Kingdom  84029E   \n",
       "\n",
       "                             ProdDescr  Qta  \n",
       "0   WHITE HANGING HEART T-LIGHT HOLDER    6  \n",
       "1                  WHITE METAL LANTERN    6  \n",
       "2       CREAM CUPID HEARTS COAT HANGER    8  \n",
       "3  KNITTED UNION FLAG HOT WATER BOTTLE    6  \n",
       "4       RED WOOLLY HOTTIE WHITE HEART.    6  "
      ]
     },
     "execution_count": 11,
     "metadata": {},
     "output_type": "execute_result"
    }
   ],
   "source": [
    "df.head()"
   ]
  },
  {
   "cell_type": "markdown",
   "metadata": {},
   "source": [
    "<a id='ou'></a>\n",
    "### 2.A Outliers ([to top](#top))"
   ]
  },
  {
   "cell_type": "markdown",
   "metadata": {},
   "source": [
    "Boxplot"
   ]
  },
  {
   "cell_type": "code",
   "execution_count": 12,
   "metadata": {},
   "outputs": [
    {
     "data": {
      "text/plain": [
       "<AxesSubplot:>"
      ]
     },
     "execution_count": 12,
     "metadata": {},
     "output_type": "execute_result"
    },
    {
     "data": {
      "image/png": "[encoded data removed]",
      "text/plain": [
       "<Figure size 432x288 with 1 Axes>"
      ]
     },
     "metadata": {
      "needs_background": "light"
     },
     "output_type": "display_data"
    }
   ],
   "source": [
    "sns.boxplot(data=df[['Sale', 'Qta']])"
   ]
  },
  {
   "cell_type": "markdown",
   "metadata": {},
   "source": [
    "After some data exploration we drop record with Qta greater or equal than 3500 and with negative values."
   ]
  },
  {
   "cell_type": "code",
   "execution_count": 13,
   "metadata": {},
   "outputs": [],
   "source": [
    "df.drop(df[df['Qta']>=2000].index, axis=0, inplace=True)\n",
    "df.drop(df[df['Qta']<=0].index, axis=0, inplace=True)"
   ]
  },
  {
   "cell_type": "markdown",
   "metadata": {},
   "source": [
    "We try to drop rows with Sale greater than 3000 and less than 0."
   ]
  },
  {
   "cell_type": "code",
   "execution_count": 14,
   "metadata": {},
   "outputs": [],
   "source": [
    "df.drop(df[df['Sale']>=200].index, axis=0, inplace=True)\n",
    "df.drop(df[df['Sale']<=0].index, axis=0, inplace=True)"
   ]
  },
  {
   "cell_type": "code",
   "execution_count": 15,
   "metadata": {},
   "outputs": [
    {
     "data": {
      "text/plain": [
       "<AxesSubplot:>"
      ]
     },
     "execution_count": 15,
     "metadata": {},
     "output_type": "execute_result"
    },
    {
     "data": {
      "image/png": "[encoded data removed]",
      "text/plain": [
       "<Figure size 432x288 with 1 Axes>"
      ]
     },
     "metadata": {
      "needs_background": "light"
     },
     "output_type": "display_data"
    }
   ],
   "source": [
    "sns.boxplot(data=df[['Sale', 'Qta']])"
   ]
  },
  {
   "cell_type": "markdown",
   "metadata": {},
   "source": [
    "In order to better understand our dataset we make some semantic adjustments"
   ]
  },
  {
   "cell_type": "code",
   "execution_count": 16,
   "metadata": {},
   "outputs": [
    {
     "data": {
      "text/html": [
       "<div>\n",
       "<style scoped>\n",
       "    .dataframe tbody tr th:only-of-type {\n",
       "        vertical-align: middle;\n",
       "    }\n",
       "\n",
       "    .dataframe tbody tr th {\n",
       "        vertical-align: top;\n",
       "    }\n",
       "\n",
       "    .dataframe thead th {\n",
       "        text-align: right;\n",
       "    }\n",
       "</style>\n",
       "<table border=\"1\" class=\"dataframe\">\n",
       "  <thead>\n",
       "    <tr style=\"text-align: right;\">\n",
       "      <th></th>\n",
       "      <th>CartID</th>\n",
       "      <th>CartDate</th>\n",
       "      <th>UnitPrice</th>\n",
       "      <th>CustomerID</th>\n",
       "      <th>CustomerCountry</th>\n",
       "      <th>ProductID</th>\n",
       "      <th>ProductDescription</th>\n",
       "      <th>Quantity</th>\n",
       "    </tr>\n",
       "  </thead>\n",
       "  <tbody>\n",
       "    <tr>\n",
       "      <th>0</th>\n",
       "      <td>536365</td>\n",
       "      <td>01/12/10 08:26</td>\n",
       "      <td>2.55</td>\n",
       "      <td>17850.0</td>\n",
       "      <td>United Kingdom</td>\n",
       "      <td>85123A</td>\n",
       "      <td>WHITE HANGING HEART T-LIGHT HOLDER</td>\n",
       "      <td>6</td>\n",
       "    </tr>\n",
       "    <tr>\n",
       "      <th>1</th>\n",
       "      <td>536365</td>\n",
       "      <td>01/12/10 08:26</td>\n",
       "      <td>3.39</td>\n",
       "      <td>17850.0</td>\n",
       "      <td>United Kingdom</td>\n",
       "      <td>71053</td>\n",
       "      <td>WHITE METAL LANTERN</td>\n",
       "      <td>6</td>\n",
       "    </tr>\n",
       "    <tr>\n",
       "      <th>2</th>\n",
       "      <td>536365</td>\n",
       "      <td>01/12/10 08:26</td>\n",
       "      <td>2.75</td>\n",
       "      <td>17850.0</td>\n",
       "      <td>United Kingdom</td>\n",
       "      <td>84406B</td>\n",
       "      <td>CREAM CUPID HEARTS COAT HANGER</td>\n",
       "      <td>8</td>\n",
       "    </tr>\n",
       "    <tr>\n",
       "      <th>3</th>\n",
       "      <td>536365</td>\n",
       "      <td>01/12/10 08:26</td>\n",
       "      <td>3.39</td>\n",
       "      <td>17850.0</td>\n",
       "      <td>United Kingdom</td>\n",
       "      <td>84029G</td>\n",
       "      <td>KNITTED UNION FLAG HOT WATER BOTTLE</td>\n",
       "      <td>6</td>\n",
       "    </tr>\n",
       "    <tr>\n",
       "      <th>4</th>\n",
       "      <td>536365</td>\n",
       "      <td>01/12/10 08:26</td>\n",
       "      <td>3.39</td>\n",
       "      <td>17850.0</td>\n",
       "      <td>United Kingdom</td>\n",
       "      <td>84029E</td>\n",
       "      <td>RED WOOLLY HOTTIE WHITE HEART.</td>\n",
       "      <td>6</td>\n",
       "    </tr>\n",
       "  </tbody>\n",
       "</table>\n",
       "</div>"
      ],
      "text/plain": [
       "   CartID        CartDate  UnitPrice CustomerID CustomerCountry ProductID  \\\n",
       "0  536365  01/12/10 08:26       2.55    17850.0  United Kingdom    85123A   \n",
       "1  536365  01/12/10 08:26       3.39    17850.0  United Kingdom     71053   \n",
       "2  536365  01/12/10 08:26       2.75    17850.0  United Kingdom    84406B   \n",
       "3  536365  01/12/10 08:26       3.39    17850.0  United Kingdom    84029G   \n",
       "4  536365  01/12/10 08:26       3.39    17850.0  United Kingdom    84029E   \n",
       "\n",
       "                    ProductDescription  Quantity  \n",
       "0   WHITE HANGING HEART T-LIGHT HOLDER         6  \n",
       "1                  WHITE METAL LANTERN         6  \n",
       "2       CREAM CUPID HEARTS COAT HANGER         8  \n",
       "3  KNITTED UNION FLAG HOT WATER BOTTLE         6  \n",
       "4       RED WOOLLY HOTTIE WHITE HEART.         6  "
      ]
     },
     "execution_count": 16,
     "metadata": {},
     "output_type": "execute_result"
    }
   ],
   "source": [
    "df = df.rename(columns={'BasketID': 'CartID', 'BasketDate': 'CartDate', 'Sale': 'UnitPrice', 'ProdID': 'ProductID', 'ProdDescr': 'ProductDescription', 'Qta': 'Quantity'})\n",
    "df.head()"
   ]
  },
  {
   "cell_type": "markdown",
   "metadata": {},
   "source": [
    "Let's now give a better description of each variable.\n",
    "\n",
    "- ``CartID`` represent the number of each transaction, and it is made up by a 6-digit numeric value. [Categorical] \n",
    "- ``CartDate`` represent the purchasing date, made up by date and time in which each transaction has been executed [Categorical] \n",
    "- ``UnitPrice`` is the selling price of a single item. [Numerical]\n",
    "- ``CustomerID`` is the user id, which is made up by a 5-digit numeric value. [Categorical]\n",
    "- ``CustomerCountry`` is the user country. [Categorical]\n",
    "- ``ProductID`` is the id of the product, made up by a 5-digit numeric value. [Categorical]\n",
    "- ``ProductDescription`` is the description of each bought product. [Categorical]\n",
    "- ``Quantity`` is the number of items bought by a customer for each transaction. [Numerical]"
   ]
  },
  {
   "cell_type": "code",
   "execution_count": 17,
   "metadata": {},
   "outputs": [
    {
     "data": {
      "text/html": [
       "<div>\n",
       "<style scoped>\n",
       "    .dataframe tbody tr th:only-of-type {\n",
       "        vertical-align: middle;\n",
       "    }\n",
       "\n",
       "    .dataframe tbody tr th {\n",
       "        vertical-align: top;\n",
       "    }\n",
       "\n",
       "    .dataframe thead th {\n",
       "        text-align: right;\n",
       "    }\n",
       "</style>\n",
       "<table border=\"1\" class=\"dataframe\">\n",
       "  <thead>\n",
       "    <tr style=\"text-align: right;\">\n",
       "      <th></th>\n",
       "      <th>UnitPrice</th>\n",
       "      <th>Quantity</th>\n",
       "    </tr>\n",
       "  </thead>\n",
       "  <tbody>\n",
       "    <tr>\n",
       "      <th>count</th>\n",
       "      <td>461305.000000</td>\n",
       "      <td>461305.000000</td>\n",
       "    </tr>\n",
       "    <tr>\n",
       "      <th>mean</th>\n",
       "      <td>3.187893</td>\n",
       "      <td>11.178409</td>\n",
       "    </tr>\n",
       "    <tr>\n",
       "      <th>std</th>\n",
       "      <td>4.990214</td>\n",
       "      <td>35.064293</td>\n",
       "    </tr>\n",
       "    <tr>\n",
       "      <th>min</th>\n",
       "      <td>0.001000</td>\n",
       "      <td>1.000000</td>\n",
       "    </tr>\n",
       "    <tr>\n",
       "      <th>25%</th>\n",
       "      <td>1.250000</td>\n",
       "      <td>2.000000</td>\n",
       "    </tr>\n",
       "    <tr>\n",
       "      <th>50%</th>\n",
       "      <td>2.080000</td>\n",
       "      <td>4.000000</td>\n",
       "    </tr>\n",
       "    <tr>\n",
       "      <th>75%</th>\n",
       "      <td>3.750000</td>\n",
       "      <td>12.000000</td>\n",
       "    </tr>\n",
       "    <tr>\n",
       "      <th>max</th>\n",
       "      <td>199.890000</td>\n",
       "      <td>1992.000000</td>\n",
       "    </tr>\n",
       "  </tbody>\n",
       "</table>\n",
       "</div>"
      ],
      "text/plain": [
       "           UnitPrice       Quantity\n",
       "count  461305.000000  461305.000000\n",
       "mean        3.187893      11.178409\n",
       "std         4.990214      35.064293\n",
       "min         0.001000       1.000000\n",
       "25%         1.250000       2.000000\n",
       "50%         2.080000       4.000000\n",
       "75%         3.750000      12.000000\n",
       "max       199.890000    1992.000000"
      ]
     },
     "execution_count": 17,
     "metadata": {},
     "output_type": "execute_result"
    }
   ],
   "source": [
    "df.describe()"
   ]
  },
  {
   "cell_type": "markdown",
   "metadata": {},
   "source": [
    "<a id='mv'></a>\n",
    "### 2.B Missing Values ([to top](#top))\n",
    "\n",
    "In this section we try to handle missing value."
   ]
  },
  {
   "cell_type": "code",
   "execution_count": 18,
   "metadata": {},
   "outputs": [
    {
     "data": {
      "text/plain": [
       "CartID                    0\n",
       "CartDate                  0\n",
       "UnitPrice                 0\n",
       "CustomerID            63518\n",
       "CustomerCountry           0\n",
       "ProductID                 0\n",
       "ProductDescription        0\n",
       "Quantity                  0\n",
       "dtype: int64"
      ]
     },
     "execution_count": 18,
     "metadata": {},
     "output_type": "execute_result"
    }
   ],
   "source": [
    "df.isnull().sum()"
   ]
  },
  {
   "cell_type": "markdown",
   "metadata": {},
   "source": [
    "Let's manage missing value for CustomerID if possible"
   ]
  },
  {
   "cell_type": "code",
   "execution_count": 19,
   "metadata": {},
   "outputs": [],
   "source": [
    "df.loc[df['CustomerID'].isnull(), ['CustomerID']]=df[df['CustomerID'].isnull()][['CartID','CustomerID']].apply(lambda x: \"G\"+x[0], axis=1)"
   ]
  },
  {
   "cell_type": "code",
   "execution_count": 20,
   "metadata": {},
   "outputs": [
    {
     "data": {
      "text/plain": [
       "CartID                0\n",
       "CartDate              0\n",
       "UnitPrice             0\n",
       "CustomerID            0\n",
       "CustomerCountry       0\n",
       "ProductID             0\n",
       "ProductDescription    0\n",
       "Quantity              0\n",
       "dtype: int64"
      ]
     },
     "execution_count": 20,
     "metadata": {},
     "output_type": "execute_result"
    }
   ],
   "source": [
    "df.isnull().sum()"
   ]
  },
  {
   "cell_type": "markdown",
   "metadata": {},
   "source": [
    "Drop AmazonFee, Samples, Debts, POST, DOT"
   ]
  },
  {
   "cell_type": "code",
   "execution_count": 21,
   "metadata": {},
   "outputs": [
    {
     "data": {
      "text/plain": [
       "array(['POST', 'C2', 'M', 'BANK CHARGES', 'DCGS0076', 'DOT',\n",
       "       'gift_0001_40', 'm', 'gift_0001_30', 'gift_0001_20', 'DCGS0069',\n",
       "       'DCGS0003', 'DCGSSBOY', 'DCGSSGIRL', 'S', 'PADS', 'gift_0001_10',\n",
       "       'DCGS0004', 'gift_0001_50'], dtype=object)"
      ]
     },
     "execution_count": 21,
     "metadata": {},
     "output_type": "execute_result"
    }
   ],
   "source": [
    "df[(df['ProductID'].str.isnumeric()==False) & (df['ProductID'].str.startswith(('1','2','3','4','5','6','7','8','9','0'))==False)]['ProductID'].unique()"
   ]
  },
  {
   "cell_type": "code",
   "execution_count": 22,
   "metadata": {},
   "outputs": [],
   "source": [
    "df.drop(df[df['ProductID']=='DOT'].index, inplace=True)"
   ]
  },
  {
   "cell_type": "code",
   "execution_count": 23,
   "metadata": {},
   "outputs": [],
   "source": [
    "df.drop(df[df['ProductID']=='M'].index, inplace=True)"
   ]
  },
  {
   "cell_type": "code",
   "execution_count": 24,
   "metadata": {},
   "outputs": [],
   "source": [
    "df.drop(df[df['ProductID']=='POST'].index, inplace=True)"
   ]
  },
  {
   "cell_type": "code",
   "execution_count": 25,
   "metadata": {},
   "outputs": [],
   "source": [
    "df.drop(df[df['ProductID']=='S'].index, inplace=True)"
   ]
  },
  {
   "cell_type": "code",
   "execution_count": 26,
   "metadata": {},
   "outputs": [],
   "source": [
    "df.drop(df[df['ProductID']=='B'].index, inplace=True)"
   ]
  },
  {
   "cell_type": "code",
   "execution_count": 27,
   "metadata": {},
   "outputs": [],
   "source": [
    "df.drop(df[df['ProductID']=='AMAZONFEE'].index, inplace=True)"
   ]
  },
  {
   "cell_type": "code",
   "execution_count": 28,
   "metadata": {},
   "outputs": [],
   "source": [
    "df.drop(df[df['ProductID']=='D'].index, inplace=True)"
   ]
  },
  {
   "cell_type": "code",
   "execution_count": 29,
   "metadata": {},
   "outputs": [],
   "source": [
    "df.drop(df[df['ProductID']=='C2'].index, inplace=True)"
   ]
  },
  {
   "cell_type": "code",
   "execution_count": 30,
   "metadata": {},
   "outputs": [],
   "source": [
    "df.drop(df[df['ProductID']=='BANK CHARGES'].index, inplace=True)"
   ]
  },
  {
   "cell_type": "code",
   "execution_count": 31,
   "metadata": {},
   "outputs": [],
   "source": [
    "df.drop(df[df['ProductID']=='m'].index, inplace=True)"
   ]
  },
  {
   "cell_type": "code",
   "execution_count": 32,
   "metadata": {},
   "outputs": [],
   "source": [
    "df.drop(df[df['ProductID']=='CRUK'].index, inplace=True)"
   ]
  },
  {
   "cell_type": "code",
   "execution_count": 33,
   "metadata": {},
   "outputs": [],
   "source": [
    "df.drop(df[df['ProductID']=='PADS'].index, inplace=True)"
   ]
  },
  {
   "cell_type": "code",
   "execution_count": 34,
   "metadata": {},
   "outputs": [],
   "source": [
    "#### to be dropped: \n",
    "#df.to_csv('data/clean_df.csv', sep='\\t', decimal=',', index=False)"
   ]
  },
  {
   "cell_type": "markdown",
   "metadata": {},
   "source": [
    "<a id='feature'></a>\n",
    "## 3. Feature Engineering ([to top](#top))"
   ]
  },
  {
   "cell_type": "markdown",
   "metadata": {},
   "source": [
    "Splitting Date into several features"
   ]
  },
  {
   "cell_type": "code",
   "execution_count": 35,
   "metadata": {},
   "outputs": [
    {
     "name": "stdout",
     "output_type": "stream",
     "text": [
      "Starting date: 2010-01-12 \t Ending Date: 2011-12-10\n"
     ]
    }
   ],
   "source": [
    "df['CartDate'] = pd.to_datetime(df['CartDate'])\n",
    "df['CartYear']= df['CartDate'].dt.year\n",
    "df['CartMonth']= df['CartDate'].dt.month\n",
    "df['CartDay']= df['CartDate'].dt.day\n",
    "df['CartHour'] = df['CartDate'].dt.hour + df['CartDate'].dt.minute / 60. + df['CartDate'].dt.second / 3600\n",
    "\n",
    "start = str(df['CartDate'].min()).split(' ')[0]\n",
    "end = str(df['CartDate'].max()).split(' ')[0]\n",
    "\n",
    "print('Starting date: {} \\t Ending Date: {}'.format(start,end))\n",
    "\n",
    "dr = pd.date_range(start=start, end=end)\n",
    "holidays = calendar().holidays(start=dr.min(), end=dr.max())\n",
    "\n",
    "df['Holiday'] = df['CartDate'].isin(holidays)\n",
    "df['Holiday'] = pd.to_datetime(df['CartDate']).dt.dayofweek > 4"
   ]
  },
  {
   "cell_type": "markdown",
   "metadata": {},
   "source": [
    "Let's create new attributes"
   ]
  },
  {
   "cell_type": "code",
   "execution_count": 36,
   "metadata": {},
   "outputs": [],
   "source": [
    "df['Sale'] = df['UnitPrice'] * df['Quantity']"
   ]
  },
  {
   "cell_type": "code",
   "execution_count": 37,
   "metadata": {},
   "outputs": [],
   "source": [
    "df['TotalCartPrice'] = df.groupby(['CartID'])['Sale'].transform('sum')"
   ]
  },
  {
   "cell_type": "code",
   "execution_count": 38,
   "metadata": {},
   "outputs": [],
   "source": [
    "df['TotalCartItems'] = df.groupby(['CartID'])['Quantity'].transform('sum')"
   ]
  },
  {
   "cell_type": "markdown",
   "metadata": {},
   "source": [
    "Product classification based on price [Cheap, Average, Expensive]"
   ]
  },
  {
   "cell_type": "code",
   "execution_count": 39,
   "metadata": {
    "scrolled": true
   },
   "outputs": [
    {
     "data": {
      "image/png": "[encoded data removed]",
      "text/plain": [
       "<Figure size 432x288 with 1 Axes>"
      ]
     },
     "metadata": {
      "needs_background": "light"
     },
     "output_type": "display_data"
    }
   ],
   "source": [
    "df['ProductType'] = df['UnitPrice'].apply(lambda x: 'cheap' if x<=2 else 'average' if x<=4 else 'expensive')\n",
    "sns.countplot(x = 'ProductType', data = df, palette = 'magma')\n",
    "plt.title('Product Type')\n",
    "plt.show()"
   ]
  },
  {
   "cell_type": "code",
   "execution_count": 40,
   "metadata": {},
   "outputs": [],
   "source": [
    "#df.to_csv('data/clean_df.csv', sep='\\t', decimal=',', index=False)"
   ]
  },
  {
   "cell_type": "markdown",
   "metadata": {},
   "source": [
    "###### Create Customer Behaviour dataframe"
   ]
  },
  {
   "cell_type": "code",
   "execution_count": 41,
   "metadata": {},
   "outputs": [],
   "source": [
    "c_df = pd.DataFrame({'CustomerID':df['CustomerID'].unique()})"
   ]
  },
  {
   "cell_type": "markdown",
   "metadata": {},
   "source": [
    "Country is assigned as the most frequent country"
   ]
  },
  {
   "cell_type": "code",
   "execution_count": 42,
   "metadata": {},
   "outputs": [],
   "source": [
    "tmp = df.groupby(['CustomerID', 'CustomerCountry'])['CartID'].nunique().reset_index(name='CC')\n",
    "tmp = tmp.loc[tmp.groupby('CustomerID')['CC'].idxmax()]\n",
    "c_df['Country'] = c_df.merge(tmp, how='left')['CustomerCountry']"
   ]
  },
  {
   "cell_type": "markdown",
   "metadata": {},
   "source": [
    "<a id='mf'></a>\n",
    "### 3.A Mandatory Features ([to top](#top))\n",
    "\n",
    "In this section we create mandatory features."
   ]
  },
  {
   "cell_type": "markdown",
   "metadata": {},
   "source": [
    "**I**: the total number of items purchased by a customer during the period of observation."
   ]
  },
  {
   "cell_type": "code",
   "execution_count": 43,
   "metadata": {},
   "outputs": [],
   "source": [
    "tmp = df.groupby(['CustomerID'])['Quantity'].sum().reset_index(name='I')\n",
    "c_df['I'] = c_df.merge(tmp, how='left')['I']"
   ]
  },
  {
   "cell_type": "markdown",
   "metadata": {},
   "source": [
    "**Iu**: the number of distinct items bought by a customer in the period of\n",
    "observation."
   ]
  },
  {
   "cell_type": "code",
   "execution_count": 44,
   "metadata": {},
   "outputs": [],
   "source": [
    "tmp = df.groupby(['CustomerID'])['ProductID'].nunique().reset_index(name='Iu')\n",
    "c_df['Iu'] = c_df.merge(tmp, how='left')['Iu']"
   ]
  },
  {
   "cell_type": "markdown",
   "metadata": {},
   "source": [
    "**Imax**: the maximum number of items purchased by a customer during a\n",
    "shopping session"
   ]
  },
  {
   "cell_type": "code",
   "execution_count": 45,
   "metadata": {},
   "outputs": [],
   "source": [
    "tmp = df.groupby(['CustomerID', 'CartID'])['Quantity'].sum().reset_index(name='Imax')\n",
    "c_df['Imax'] = c_df.merge(tmp, how='left')['Imax']"
   ]
  },
  {
   "cell_type": "markdown",
   "metadata": {},
   "source": [
    "**E**: the Shannon entropy on the purchasing behaviour of the customer"
   ]
  },
  {
   "cell_type": "markdown",
   "metadata": {},
   "source": [
    "The Shannon entropy on the purchasing behaviour of the customer. We split this feature in 2 ways:\n",
    "1. Shannon entropy of number of product of each Customer's Basket related with total product for each Customer (E1).\n",
    "2. Shannon entropy of holiday (or not) baskets of each Customer (E2)."
   ]
  },
  {
   "cell_type": "code",
   "execution_count": 46,
   "metadata": {},
   "outputs": [],
   "source": [
    "# Products bought by Customers\n",
    "tot_prod = df[df['Quantity']>0].groupby(['CustomerID'])['Quantity'].sum().reset_index()\n",
    "# Products bought by Customers for each Basket\n",
    "bask_prod = df[df['Quantity']>0].groupby(['CustomerID', 'CartID'])['Quantity'].sum().reset_index()\n",
    "r = pd.merge(bask_prod, tot_prod, on=['CustomerID'])\n",
    "# Compute Shannon Entropy\n",
    "r['Prob'] = r['Quantity_x']/r['Quantity_y']\n",
    "r['Entropy'] = -(r['Prob']*np.log2(r['Prob']))\n",
    "tmp = r.groupby(['CustomerID'])['Entropy'].sum().reset_index(name='E1')\n",
    "c_df['E1'] = c_df.merge(tmp, how='right')['E1']\n",
    "c_df['E1'] = c_df['E1'].fillna(0)"
   ]
  },
  {
   "cell_type": "code",
   "execution_count": 47,
   "metadata": {},
   "outputs": [
    {
     "name": "stderr",
     "output_type": "stream",
     "text": [
      "/opt/anaconda3/envs/test/lib/python3.8/site-packages/pandas/core/series.py:726: RuntimeWarning: divide by zero encountered in log2\n",
      "  result = getattr(ufunc, method)(*inputs, **kwargs)\n"
     ]
    }
   ],
   "source": [
    "# Baskets bought by Customers\n",
    "tot_bask = df.groupby(['CustomerID'])['CartID'].nunique().reset_index()\n",
    "# Holiday Baskets bought by Customers\n",
    "hol_bask = df[df['Holiday']==True].groupby(['CustomerID'])['CartID'].nunique().reset_index()\n",
    "r = pd.merge(tot_bask, hol_bask, on=['CustomerID'])\n",
    "# Compute Shannon Entropy\n",
    "r['Prob_hol'] = r['CartID_y']/r['CartID_x']\n",
    "r['Prob_week'] = 1-r['Prob_hol']\n",
    "r['E2'] = -(r['Prob_hol']*np.log2(r['Prob_hol']))-(r['Prob_week']*np.log2(r['Prob_week']))\n",
    "c_df['E2'] = c_df.merge(r, how='right')['E2']\n",
    "c_df['E2'] = c_df['E2'].fillna(0)"
   ]
  },
  {
   "cell_type": "code",
   "execution_count": 48,
   "metadata": {},
   "outputs": [
    {
     "data": {
      "text/html": [
       "<div>\n",
       "<style scoped>\n",
       "    .dataframe tbody tr th:only-of-type {\n",
       "        vertical-align: middle;\n",
       "    }\n",
       "\n",
       "    .dataframe tbody tr th {\n",
       "        vertical-align: top;\n",
       "    }\n",
       "\n",
       "    .dataframe thead th {\n",
       "        text-align: right;\n",
       "    }\n",
       "</style>\n",
       "<table border=\"1\" class=\"dataframe\">\n",
       "  <thead>\n",
       "    <tr style=\"text-align: right;\">\n",
       "      <th></th>\n",
       "      <th>CustomerID</th>\n",
       "      <th>Country</th>\n",
       "      <th>I</th>\n",
       "      <th>Iu</th>\n",
       "      <th>Imax</th>\n",
       "      <th>E1</th>\n",
       "      <th>E2</th>\n",
       "    </tr>\n",
       "  </thead>\n",
       "  <tbody>\n",
       "    <tr>\n",
       "      <th>0</th>\n",
       "      <td>17850.0</td>\n",
       "      <td>United Kingdom</td>\n",
       "      <td>1733</td>\n",
       "      <td>21</td>\n",
       "      <td>40</td>\n",
       "      <td>2.668814</td>\n",
       "      <td>0.811278</td>\n",
       "    </tr>\n",
       "    <tr>\n",
       "      <th>1</th>\n",
       "      <td>13047.0</td>\n",
       "      <td>United Kingdom</td>\n",
       "      <td>1390</td>\n",
       "      <td>105</td>\n",
       "      <td>12</td>\n",
       "      <td>1.663235</td>\n",
       "      <td>0.000000</td>\n",
       "    </tr>\n",
       "    <tr>\n",
       "      <th>2</th>\n",
       "      <td>12583.0</td>\n",
       "      <td>France</td>\n",
       "      <td>5028</td>\n",
       "      <td>114</td>\n",
       "      <td>12</td>\n",
       "      <td>0.000000</td>\n",
       "      <td>1.000000</td>\n",
       "    </tr>\n",
       "    <tr>\n",
       "      <th>3</th>\n",
       "      <td>13748.0</td>\n",
       "      <td>United Kingdom</td>\n",
       "      <td>439</td>\n",
       "      <td>24</td>\n",
       "      <td>88</td>\n",
       "      <td>0.000000</td>\n",
       "      <td>0.468996</td>\n",
       "    </tr>\n",
       "    <tr>\n",
       "      <th>4</th>\n",
       "      <td>15100.0</td>\n",
       "      <td>United Kingdom</td>\n",
       "      <td>80</td>\n",
       "      <td>1</td>\n",
       "      <td>88</td>\n",
       "      <td>2.670152</td>\n",
       "      <td>1.000000</td>\n",
       "    </tr>\n",
       "  </tbody>\n",
       "</table>\n",
       "</div>"
      ],
      "text/plain": [
       "  CustomerID         Country     I   Iu  Imax        E1        E2\n",
       "0    17850.0  United Kingdom  1733   21    40  2.668814  0.811278\n",
       "1    13047.0  United Kingdom  1390  105    12  1.663235  0.000000\n",
       "2    12583.0          France  5028  114    12  0.000000  1.000000\n",
       "3    13748.0  United Kingdom   439   24    88  0.000000  0.468996\n",
       "4    15100.0  United Kingdom    80    1    88  2.670152  1.000000"
      ]
     },
     "execution_count": 48,
     "metadata": {},
     "output_type": "execute_result"
    }
   ],
   "source": [
    "c_df.head()"
   ]
  },
  {
   "cell_type": "markdown",
   "metadata": {},
   "source": [
    "<a id='nf'></a>\n",
    "### 3.B Other new features ([to top](#top))\n",
    "\n",
    "In this section we try to handle missing value."
   ]
  },
  {
   "cell_type": "markdown",
   "metadata": {},
   "source": [
    "##### Total cost of purchased products for each customer"
   ]
  },
  {
   "cell_type": "code",
   "execution_count": 49,
   "metadata": {},
   "outputs": [],
   "source": [
    "tmp = df.groupby('CustomerID')['Sale'].sum().reset_index(name='TotalCost')\n",
    "c_df['TotalCost'] = c_df.merge(tmp, how='left')['TotalCost']"
   ]
  },
  {
   "cell_type": "markdown",
   "metadata": {},
   "source": [
    "##### More expensive product"
   ]
  },
  {
   "cell_type": "code",
   "execution_count": 50,
   "metadata": {},
   "outputs": [],
   "source": [
    "tmp = df.groupby('CustomerID')['UnitPrice'].max().reset_index(name='Mep')\n",
    "c_df['Mep'] = c_df.merge(tmp, how='left')['Mep']"
   ]
  },
  {
   "cell_type": "markdown",
   "metadata": {},
   "source": [
    "##### Less expensive product"
   ]
  },
  {
   "cell_type": "code",
   "execution_count": 51,
   "metadata": {},
   "outputs": [],
   "source": [
    "tmp = df.groupby('CustomerID')['UnitPrice'].min().reset_index(name='Lep')\n",
    "c_df['Lep'] = c_df.merge(tmp, how='left')['Lep']"
   ]
  },
  {
   "cell_type": "markdown",
   "metadata": {},
   "source": [
    "##### Average UnitPrice of purchased products"
   ]
  },
  {
   "cell_type": "code",
   "execution_count": 52,
   "metadata": {},
   "outputs": [],
   "source": [
    "tmp = df.groupby('CustomerID')['UnitPrice'].mean().reset_index(name='AvgUP')\n",
    "c_df['AvgUP'] = c_df.merge(tmp, how='left')['AvgUP']"
   ]
  },
  {
   "cell_type": "markdown",
   "metadata": {},
   "source": [
    "##### Total number of Basket"
   ]
  },
  {
   "cell_type": "code",
   "execution_count": 53,
   "metadata": {},
   "outputs": [],
   "source": [
    "tmp = df.groupby('CustomerID')['CartID'].nunique().reset_index(name='TotCart')\n",
    "c_df['TotCart'] = c_df.merge(tmp, how='left')['TotCart']"
   ]
  },
  {
   "cell_type": "markdown",
   "metadata": {},
   "source": [
    "##### Average monthly Basket"
   ]
  },
  {
   "cell_type": "code",
   "execution_count": 54,
   "metadata": {},
   "outputs": [],
   "source": [
    "tmp = df.groupby(['CustomerID','CartMonth'])['CartID'].nunique().reset_index(name='TotMonthlyCart')\n",
    "tmp = tmp.groupby('CustomerID')['TotMonthlyCart'].sum().reset_index(name='AvgCart')\n",
    "c_df['AvgCart'] = ((c_df.merge(tmp, how='left')['AvgCart'])/12).astype(float)"
   ]
  },
  {
   "cell_type": "code",
   "execution_count": 55,
   "metadata": {},
   "outputs": [
    {
     "name": "stdout",
     "output_type": "stream",
     "text": [
      "<class 'pandas.core.frame.DataFrame'>\n",
      "RangeIndex: 5583 entries, 0 to 5582\n",
      "Data columns (total 13 columns):\n",
      " #   Column      Non-Null Count  Dtype  \n",
      "---  ------      --------------  -----  \n",
      " 0   CustomerID  5583 non-null   object \n",
      " 1   Country     5583 non-null   object \n",
      " 2   I           5583 non-null   int64  \n",
      " 3   Iu          5583 non-null   int64  \n",
      " 4   Imax        5583 non-null   int64  \n",
      " 5   E1          5583 non-null   float64\n",
      " 6   E2          5583 non-null   float64\n",
      " 7   TotalCost   5583 non-null   float64\n",
      " 8   Mep         5583 non-null   float64\n",
      " 9   Lep         5583 non-null   float64\n",
      " 10  AvgUP       5583 non-null   float64\n",
      " 11  TotCart     5583 non-null   int64  \n",
      " 12  AvgCart     5583 non-null   float64\n",
      "dtypes: float64(7), int64(4), object(2)\n",
      "memory usage: 567.1+ KB\n"
     ]
    }
   ],
   "source": [
    "c_df.info()"
   ]
  },
  {
   "cell_type": "markdown",
   "metadata": {},
   "source": [
    "### Customer Behaviour features:\n",
    "* **CustomerID**\n",
    "* **Country**: the most frequent country of shopping for each customer.\n",
    "* **I**: the total number of items purchased by a customer.\n",
    "* **Iu**: the number of distinct items bought by a customer.\n",
    "* **Imax**: the maximum number of items purchased by a customer during a shopping session.\n",
    "* **E1**: Shannon entropy of number of product of each customer's basket related with total product for each customer.\n",
    "* **E2**: Shannon entropy of holiday (or not) baskets of each customer.\n",
    "* **Cancelled**: number of cancelled order.\n",
    "* **TotalCost**: total cost of all basket by a customer.\n",
    "* **Mep**: most expensive product bought by a customer.\n",
    "* **Lep**: most expensive product bought by a customer.\n",
    "* **AvgUP**: average UnitPrice of product bought by a customer.\n",
    "* **TotCart**: total number of basket for each customer.\n",
    "* **AvgCart**: average monthly basket bought by a customer."
   ]
  },
  {
   "cell_type": "markdown",
   "metadata": {},
   "source": [
    "<a id='preparation'></a>\n",
    "## 4. Data Preparation ([to top](#top))\n",
    "Let's prepare data to better understand customer behavior"
   ]
  },
  {
   "cell_type": "code",
   "execution_count": 56,
   "metadata": {},
   "outputs": [],
   "source": [
    "df = c_df"
   ]
  },
  {
   "cell_type": "code",
   "execution_count": 57,
   "metadata": {},
   "outputs": [
    {
     "data": {
      "text/html": [
       "<div>\n",
       "<style scoped>\n",
       "    .dataframe tbody tr th:only-of-type {\n",
       "        vertical-align: middle;\n",
       "    }\n",
       "\n",
       "    .dataframe tbody tr th {\n",
       "        vertical-align: top;\n",
       "    }\n",
       "\n",
       "    .dataframe thead th {\n",
       "        text-align: right;\n",
       "    }\n",
       "</style>\n",
       "<table border=\"1\" class=\"dataframe\">\n",
       "  <thead>\n",
       "    <tr style=\"text-align: right;\">\n",
       "      <th></th>\n",
       "      <th>I</th>\n",
       "      <th>Iu</th>\n",
       "      <th>Imax</th>\n",
       "      <th>E1</th>\n",
       "      <th>E2</th>\n",
       "      <th>TotalCost</th>\n",
       "      <th>Mep</th>\n",
       "      <th>Lep</th>\n",
       "      <th>AvgUP</th>\n",
       "      <th>TotCart</th>\n",
       "      <th>AvgCart</th>\n",
       "    </tr>\n",
       "  </thead>\n",
       "  <tbody>\n",
       "    <tr>\n",
       "      <th>count</th>\n",
       "      <td>5583.000000</td>\n",
       "      <td>5583.000000</td>\n",
       "      <td>5583.000000</td>\n",
       "      <td>5583.000000</td>\n",
       "      <td>5583.000000</td>\n",
       "      <td>5583.000000</td>\n",
       "      <td>5583.000000</td>\n",
       "      <td>5583.000000</td>\n",
       "      <td>5583.000000</td>\n",
       "      <td>5583.000000</td>\n",
       "      <td>5583.000000</td>\n",
       "    </tr>\n",
       "    <tr>\n",
       "      <th>mean</th>\n",
       "      <td>921.735984</td>\n",
       "      <td>59.002149</td>\n",
       "      <td>282.911159</td>\n",
       "      <td>0.932897</td>\n",
       "      <td>0.221205</td>\n",
       "      <td>1639.266357</td>\n",
       "      <td>15.158019</td>\n",
       "      <td>0.877469</td>\n",
       "      <td>3.522972</td>\n",
       "      <td>3.517464</td>\n",
       "      <td>0.293122</td>\n",
       "    </tr>\n",
       "    <tr>\n",
       "      <th>std</th>\n",
       "      <td>4173.686485</td>\n",
       "      <td>81.934686</td>\n",
       "      <td>518.245060</td>\n",
       "      <td>1.162732</td>\n",
       "      <td>0.375716</td>\n",
       "      <td>7426.251235</td>\n",
       "      <td>18.528121</td>\n",
       "      <td>3.029015</td>\n",
       "      <td>3.668349</td>\n",
       "      <td>6.858503</td>\n",
       "      <td>0.571542</td>\n",
       "    </tr>\n",
       "    <tr>\n",
       "      <th>min</th>\n",
       "      <td>1.000000</td>\n",
       "      <td>1.000000</td>\n",
       "      <td>1.000000</td>\n",
       "      <td>0.000000</td>\n",
       "      <td>0.000000</td>\n",
       "      <td>0.390000</td>\n",
       "      <td>0.060000</td>\n",
       "      <td>0.040000</td>\n",
       "      <td>0.060000</td>\n",
       "      <td>1.000000</td>\n",
       "      <td>0.083333</td>\n",
       "    </tr>\n",
       "    <tr>\n",
       "      <th>25%</th>\n",
       "      <td>106.000000</td>\n",
       "      <td>13.000000</td>\n",
       "      <td>72.000000</td>\n",
       "      <td>0.000000</td>\n",
       "      <td>0.000000</td>\n",
       "      <td>223.435000</td>\n",
       "      <td>7.950000</td>\n",
       "      <td>0.290000</td>\n",
       "      <td>2.208947</td>\n",
       "      <td>1.000000</td>\n",
       "      <td>0.083333</td>\n",
       "    </tr>\n",
       "    <tr>\n",
       "      <th>50%</th>\n",
       "      <td>279.000000</td>\n",
       "      <td>32.000000</td>\n",
       "      <td>150.000000</td>\n",
       "      <td>0.232009</td>\n",
       "      <td>0.000000</td>\n",
       "      <td>578.900000</td>\n",
       "      <td>12.750000</td>\n",
       "      <td>0.420000</td>\n",
       "      <td>3.014035</td>\n",
       "      <td>2.000000</td>\n",
       "      <td>0.166667</td>\n",
       "    </tr>\n",
       "    <tr>\n",
       "      <th>75%</th>\n",
       "      <td>766.000000</td>\n",
       "      <td>77.500000</td>\n",
       "      <td>296.000000</td>\n",
       "      <td>1.626534</td>\n",
       "      <td>0.503258</td>\n",
       "      <td>1387.890000</td>\n",
       "      <td>16.950000</td>\n",
       "      <td>0.850000</td>\n",
       "      <td>4.162873</td>\n",
       "      <td>4.000000</td>\n",
       "      <td>0.333333</td>\n",
       "    </tr>\n",
       "    <tr>\n",
       "      <th>max</th>\n",
       "      <td>194444.000000</td>\n",
       "      <td>1785.000000</td>\n",
       "      <td>12572.000000</td>\n",
       "      <td>6.966608</td>\n",
       "      <td>1.000000</td>\n",
       "      <td>274146.020000</td>\n",
       "      <td>195.000000</td>\n",
       "      <td>125.000000</td>\n",
       "      <td>125.000000</td>\n",
       "      <td>206.000000</td>\n",
       "      <td>17.166667</td>\n",
       "    </tr>\n",
       "  </tbody>\n",
       "</table>\n",
       "</div>"
      ],
      "text/plain": [
       "                   I           Iu          Imax           E1           E2  \\\n",
       "count    5583.000000  5583.000000   5583.000000  5583.000000  5583.000000   \n",
       "mean      921.735984    59.002149    282.911159     0.932897     0.221205   \n",
       "std      4173.686485    81.934686    518.245060     1.162732     0.375716   \n",
       "min         1.000000     1.000000      1.000000     0.000000     0.000000   \n",
       "25%       106.000000    13.000000     72.000000     0.000000     0.000000   \n",
       "50%       279.000000    32.000000    150.000000     0.232009     0.000000   \n",
       "75%       766.000000    77.500000    296.000000     1.626534     0.503258   \n",
       "max    194444.000000  1785.000000  12572.000000     6.966608     1.000000   \n",
       "\n",
       "           TotalCost          Mep          Lep        AvgUP      TotCart  \\\n",
       "count    5583.000000  5583.000000  5583.000000  5583.000000  5583.000000   \n",
       "mean     1639.266357    15.158019     0.877469     3.522972     3.517464   \n",
       "std      7426.251235    18.528121     3.029015     3.668349     6.858503   \n",
       "min         0.390000     0.060000     0.040000     0.060000     1.000000   \n",
       "25%       223.435000     7.950000     0.290000     2.208947     1.000000   \n",
       "50%       578.900000    12.750000     0.420000     3.014035     2.000000   \n",
       "75%      1387.890000    16.950000     0.850000     4.162873     4.000000   \n",
       "max    274146.020000   195.000000   125.000000   125.000000   206.000000   \n",
       "\n",
       "           AvgCart  \n",
       "count  5583.000000  \n",
       "mean      0.293122  \n",
       "std       0.571542  \n",
       "min       0.083333  \n",
       "25%       0.083333  \n",
       "50%       0.166667  \n",
       "75%       0.333333  \n",
       "max      17.166667  "
      ]
     },
     "execution_count": 57,
     "metadata": {},
     "output_type": "execute_result"
    }
   ],
   "source": [
    "df.describe()"
   ]
  },
  {
   "cell_type": "code",
   "execution_count": 58,
   "metadata": {},
   "outputs": [
    {
     "data": {
      "image/png": "[encoded data removed]",
      "text/plain": [
       "<Figure size 720x720 with 12 Axes>"
      ]
     },
     "metadata": {
      "needs_background": "light"
     },
     "output_type": "display_data"
    }
   ],
   "source": [
    "df.plot(kind='box',subplots=True,layout=(4,3),grid=True,figsize=(10,10))\n",
    "plt.tight_layout()\n",
    "plt.show()"
   ]
  },
  {
   "cell_type": "code",
   "execution_count": 59,
   "metadata": {},
   "outputs": [],
   "source": [
    "df.drop(df[df['I']>100000].index, axis=0, inplace=True)\n",
    "df.drop(df[df['Iu']>1000].index, axis=0, inplace=True)\n",
    "df.drop(df[df['Imax']>8000].index, axis=0, inplace=True)\n",
    "df.drop(df[df['TotalCost']>80000].index, axis=0, inplace=True)\n",
    "df.drop(df[df['Mep']>200].index, axis=0, inplace=True)\n",
    "df.drop(df[df['Lep']>=30].index, axis=0, inplace=True)"
   ]
  },
  {
   "cell_type": "code",
   "execution_count": 60,
   "metadata": {},
   "outputs": [
    {
     "data": {
      "image/png": "[encoded data removed]",
      "text/plain": [
       "<Figure size 720x720 with 12 Axes>"
      ]
     },
     "metadata": {
      "needs_background": "light"
     },
     "output_type": "display_data"
    }
   ],
   "source": [
    "df.plot(kind='box',subplots=True,layout=(4,3),grid=True,figsize=(10,10))\n",
    "plt.tight_layout()\n",
    "plt.show()"
   ]
  },
  {
   "cell_type": "markdown",
   "metadata": {},
   "source": [
    "<a id='fc'></a>\n",
    "### 4.A Feature correlation ([to top](#top))"
   ]
  },
  {
   "cell_type": "code",
   "execution_count": 61,
   "metadata": {},
   "outputs": [
    {
     "data": {
      "image/png": "[encoded data removed]",
      "text/plain": [
       "<Figure size 864x864 with 2 Axes>"
      ]
     },
     "metadata": {
      "needs_background": "light"
     },
     "output_type": "display_data"
    }
   ],
   "source": [
    "corr = df.corr()\n",
    "plt.subplots(figsize =(12, 12))\n",
    "heatmap = sns.heatmap(corr, \n",
    "            xticklabels=corr.columns.values,\n",
    "            yticklabels=corr.columns.values, \n",
    "            annot=True, \n",
    "            cmap=sns.diverging_palette(220, 20, as_cmap=True))"
   ]
  },
  {
   "cell_type": "code",
   "execution_count": 62,
   "metadata": {},
   "outputs": [],
   "source": [
    "# Export dataframe of customer behaviour\n",
    "#df.to_csv('data/customer_behaviour.csv', sep='\\t', decimal=',', index=False)"
   ]
  },
  {
   "cell_type": "code",
   "execution_count": null,
   "metadata": {},
   "outputs": [],
   "source": []
  }
 ],
 "metadata": {
  "kernelspec": {
   "display_name": "Python 3",
   "language": "python",
   "name": "python3"
  },
  "language_info": {
   "codemirror_mode": {
    "name": "ipython",
    "version": 3
   },
   "file_extension": ".py",
   "mimetype": "text/x-python",
   "name": "python",
   "nbconvert_exporter": "python",
   "pygments_lexer": "ipython3",
   "version": "3.8.5"
  }
 },
 "nbformat": 4,
 "nbformat_minor": 4
}
